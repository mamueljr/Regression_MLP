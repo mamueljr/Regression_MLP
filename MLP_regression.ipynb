{
 "cells": [
  {
   "cell_type": "markdown",
   "id": "ddbd1466-02f4-4d41-ac3b-fa63fc430d78",
   "metadata": {},
   "source": [
    "# 1. Utilice la base de datos de California housing"
   ]
  },
  {
   "cell_type": "code",
   "execution_count": 2,
   "id": "d14a3022-c186-4ea6-a1fd-eec6055694c0",
   "metadata": {},
   "outputs": [],
   "source": [
    "from sklearn.datasets import fetch_california_housing\n",
    "from sklearn.model_selection import train_test_split\n",
    "from sklearn.preprocessing import StandardScaler\n",
    "import tensorflow as tf\n",
    "from tensorflow import keras\n",
    "import pandas as pd\n",
    "import matplotlib.pyplot as plt"
   ]
  },
  {
   "cell_type": "markdown",
   "id": "e2ed768c-637f-4ed5-83a0-9e5f48b002bc",
   "metadata": {},
   "source": [
    "### Obtener los datos"
   ]
  },
  {
   "cell_type": "code",
   "execution_count": 10,
   "id": "c68647c6-2cd9-4e54-9614-95b3ce8bf6da",
   "metadata": {},
   "outputs": [],
   "source": [
    "housing = fetch_california_housing()"
   ]
  },
  {
   "cell_type": "markdown",
   "id": "17b991f9-5d28-4972-a1e6-e28c6505ddff",
   "metadata": {},
   "source": [
    "# 2. Realice la partición de entrenamiento, validación y prueba (train, val and test)"
   ]
  },
  {
   "cell_type": "code",
   "execution_count": 13,
   "id": "65343eca-24c8-4d8e-badc-e0444da6e90e",
   "metadata": {},
   "outputs": [],
   "source": [
    "X_train_full, X_test, y_train_full, y_test = train_test_split(housing.data, housing.target)\n",
    "X_train, X_valid, y_train, y_valid = train_test_split(X_train_full, y_train_full)"
   ]
  },
  {
   "cell_type": "markdown",
   "id": "7c1ceb1a-5a30-4edb-b97e-0778f74fb953",
   "metadata": {},
   "source": [
    "# 3. Realice la transformación de los datos (StandardScaler)"
   ]
  },
  {
   "cell_type": "code",
   "execution_count": 14,
   "id": "46ee19b7-692c-4e2e-8113-fa21cadef14e",
   "metadata": {},
   "outputs": [],
   "source": [
    "scaler = StandardScaler()\n",
    "X_train = scaler.fit_transform(X_train)\n",
    "X_valid = scaler.fit_transform(X_valid)\n",
    "X_test = scaler.fit_transform(X_test)"
   ]
  },
  {
   "cell_type": "markdown",
   "id": "520cb8bb-6c55-44b4-87ca-f12ef8efa315",
   "metadata": {},
   "source": [
    "# 4. Utilizando la librería de Keras crea un modelo MLP ."
   ]
  },
  {
   "cell_type": "code",
   "execution_count": 15,
   "id": "6c326913-f2a5-43b4-9024-a9a2c794ee3e",
   "metadata": {},
   "outputs": [],
   "source": [
    "model = tf.keras.Sequential([tf.keras.layers.Dense(30, activation = 'relu', input_shape = X_train.shape[1:]),tf.keras.layers.Dense(1)])"
   ]
  },
  {
   "cell_type": "code",
   "execution_count": 16,
   "id": "3eeae7cb-8488-4fe5-85df-64aa93aef4aa",
   "metadata": {},
   "outputs": [],
   "source": [
    "model.compile(loss = tf.losses.mean_squared_error, optimizer = 'sgd')"
   ]
  },
  {
   "cell_type": "code",
   "execution_count": 17,
   "id": "ae919112-29f8-4836-abec-3862bf2ab1d7",
   "metadata": {},
   "outputs": [
    {
     "name": "stdout",
     "output_type": "stream",
     "text": [
      "Epoch 1/20\n",
      "363/363 [==============================] - 1s 2ms/step - loss: 1.5084 - val_loss: 2.5404\n",
      "Epoch 2/20\n",
      "363/363 [==============================] - 1s 1ms/step - loss: 1.1082 - val_loss: 0.4807\n",
      "Epoch 3/20\n",
      "363/363 [==============================] - 1s 2ms/step - loss: 0.4171 - val_loss: 0.3991\n",
      "Epoch 4/20\n",
      "363/363 [==============================] - 1s 2ms/step - loss: 0.3840 - val_loss: 0.4060\n",
      "Epoch 5/20\n",
      "363/363 [==============================] - 1s 2ms/step - loss: 0.3688 - val_loss: 0.3868\n",
      "Epoch 6/20\n",
      "363/363 [==============================] - 1s 1ms/step - loss: 0.3617 - val_loss: 0.4007\n",
      "Epoch 7/20\n",
      "363/363 [==============================] - 1s 2ms/step - loss: 0.3525 - val_loss: 0.3850\n",
      "Epoch 8/20\n",
      "363/363 [==============================] - 1s 2ms/step - loss: 0.3479 - val_loss: 0.3937\n",
      "Epoch 9/20\n",
      "363/363 [==============================] - 1s 1ms/step - loss: 0.3434 - val_loss: 0.4073\n",
      "Epoch 10/20\n",
      "363/363 [==============================] - 1s 1ms/step - loss: 0.3413 - val_loss: 0.4171\n",
      "Epoch 11/20\n",
      "363/363 [==============================] - 1s 2ms/step - loss: 0.3382 - val_loss: 0.4130\n",
      "Epoch 12/20\n",
      "363/363 [==============================] - 1s 2ms/step - loss: 0.3352 - val_loss: 0.4056\n",
      "Epoch 13/20\n",
      "363/363 [==============================] - 1s 1ms/step - loss: 0.3337 - val_loss: 0.4269\n",
      "Epoch 14/20\n",
      "363/363 [==============================] - 1s 2ms/step - loss: 0.3319 - val_loss: 0.4288\n",
      "Epoch 15/20\n",
      "363/363 [==============================] - 1s 2ms/step - loss: 0.3292 - val_loss: 0.4297\n",
      "Epoch 16/20\n",
      "363/363 [==============================] - 1s 2ms/step - loss: 0.3274 - val_loss: 0.4376\n",
      "Epoch 17/20\n",
      "363/363 [==============================] - 1s 2ms/step - loss: 0.3257 - val_loss: 0.4485\n",
      "Epoch 18/20\n",
      "363/363 [==============================] - 1s 2ms/step - loss: 0.3265 - val_loss: 0.4257\n",
      "Epoch 19/20\n",
      "363/363 [==============================] - 1s 2ms/step - loss: 0.3240 - val_loss: 0.4054\n",
      "Epoch 20/20\n",
      "363/363 [==============================] - 1s 2ms/step - loss: 0.3229 - val_loss: 0.4586\n"
     ]
    }
   ],
   "source": [
    "history = model.fit(X_train, y_train, epochs=20, validation_data=(X_valid, y_valid))"
   ]
  },
  {
   "cell_type": "code",
   "execution_count": 18,
   "id": "f908e3a3-1524-4b0f-82a2-c9bb8e40aab2",
   "metadata": {},
   "outputs": [
    {
     "name": "stdout",
     "output_type": "stream",
     "text": [
      "162/162 [==============================] - 0s 1ms/step - loss: 0.4121\n"
     ]
    }
   ],
   "source": [
    "mse_test = model.evaluate(X_test, y_test)\n"
   ]
  },
  {
   "cell_type": "markdown",
   "id": "38fa68c1-5ec9-4624-9c91-03ac2542e587",
   "metadata": {},
   "source": [
    "# 5. Utiliza la función de RandomizedSearchCV para encontrar los mejores parámetros de: capas ocultas, número de unidades, learning rate y dropout"
   ]
  },
  {
   "cell_type": "code",
   "execution_count": 29,
   "id": "d8c3e587-8d3e-4271-ad86-ac9978d0d71a",
   "metadata": {},
   "outputs": [],
   "source": [
    "def build_model(n_hidden = 1, n_neurons=30, learning_rate=3e-3, input_shape=[8]):\n",
    "    model = keras.models.Sequential()\n",
    "    model.add(keras.layers.InputLayer(input_shape=input_shape))\n",
    "    for layer in range(n_hidden):\n",
    "        model.add(keras.layers.Dense(n_neurons, activation='relu'))\n",
    "    model.add(keras.layers.Dense(1))\n",
    "    optimizer = keras.optimizers.SGD(lr='learning_rate')\n",
    "    model.compile(loss=\"mse\", optimizer=optimizer)\n",
    "    return model"
   ]
  },
  {
   "cell_type": "code",
   "execution_count": 32,
   "id": "bafaa495-cf83-4c01-bdcf-0224259f2f8b",
   "metadata": {},
   "outputs": [
    {
     "name": "stderr",
     "output_type": "stream",
     "text": [
      "WARNING:absl:`lr` is deprecated in Keras optimizer, please use `learning_rate` or use the legacy optimizer, e.g.,tf.keras.optimizers.legacy.SGD.\n"
     ]
    },
    {
     "name": "stdout",
     "output_type": "stream",
     "text": [
      "Model: \"sequential_7\"\n",
      "_________________________________________________________________\n",
      " Layer (type)                Output Shape              Param #   \n",
      "=================================================================\n",
      " dense_14 (Dense)            (None, 30)                270       \n",
      "                                                                 \n",
      " dense_15 (Dense)            (None, 1)                 31        \n",
      "                                                                 \n",
      "=================================================================\n",
      "Total params: 301\n",
      "Trainable params: 301\n",
      "Non-trainable params: 0\n",
      "_________________________________________________________________\n"
     ]
    }
   ],
   "source": [
    "modelo_nuevo = build_model()\n",
    "modelo_nuevo.summary()"
   ]
  },
  {
   "cell_type": "markdown",
   "id": "828f6f6f-f29f-4791-9f5d-ff7e7d27d676",
   "metadata": {},
   "source": [
    "### Crear el Regresor basado en el modelo creado"
   ]
  },
  {
   "cell_type": "code",
   "execution_count": 31,
   "id": "272e7c09-3e1b-4c2c-9ace-d0747a262dbc",
   "metadata": {},
   "outputs": [
    {
     "name": "stderr",
     "output_type": "stream",
     "text": [
      "C:\\Users\\Emmanuel\\AppData\\Local\\Temp\\ipykernel_2280\\1709004121.py:1: DeprecationWarning: KerasRegressor is deprecated, use Sci-Keras (https://github.com/adriangb/scikeras) instead. See https://www.adriangb.com/scikeras/stable/migration.html for help migrating.\n",
      "  keras_reg = keras.wrappers.scikit_learn.KerasRegressor(build_model)\n"
     ]
    }
   ],
   "source": [
    "keras_reg = keras.wrappers.scikit_learn.KerasRegressor(build_model)"
   ]
  },
  {
   "cell_type": "markdown",
   "id": "827fcf7c-eaa7-42e5-bd70-d646ba825400",
   "metadata": {},
   "source": [
    "### Buscar mejores parametros"
   ]
  },
  {
   "cell_type": "code",
   "execution_count": 40,
   "id": "ec1f867a-cf09-42cc-8335-cfbc1d6ea0b4",
   "metadata": {},
   "outputs": [],
   "source": [
    "from scipy.stats import reciprocal\n",
    "from sklearn.model_selection import RandomizedSearchCV\n",
    "import numpy as np"
   ]
  },
  {
   "cell_type": "code",
   "execution_count": 41,
   "id": "6e14c642-78c3-49c2-8a91-55e6516de020",
   "metadata": {},
   "outputs": [],
   "source": [
    "param_distribs = {\n",
    "    \"n_hidden\":[0,1,2,3],\n",
    "    \"n_neurons\":np.arange(1,100),\n",
    "    \"learning_rate\":reciprocal(3e-4, 3e-2),\n",
    "}"
   ]
  },
  {
   "cell_type": "markdown",
   "id": "bda25b10-8a5b-4b73-acad-bde4c88817dc",
   "metadata": {},
   "source": [
    "### Entrenar el modelo con la busqueda de paremetros"
   ]
  },
  {
   "cell_type": "code",
   "execution_count": 43,
   "id": "2f6e5476-6740-49c2-9ede-fee4919ab7d5",
   "metadata": {},
   "outputs": [
    {
     "name": "stderr",
     "output_type": "stream",
     "text": [
      "WARNING:absl:`lr` is deprecated in Keras optimizer, please use `learning_rate` or use the legacy optimizer, e.g.,tf.keras.optimizers.legacy.SGD.\n"
     ]
    },
    {
     "name": "stdout",
     "output_type": "stream",
     "text": [
      "Epoch 1/20\n",
      "242/242 [==============================] - 1s 2ms/step - loss: 1.0281 - val_loss: 0.7053\n",
      "Epoch 2/20\n",
      "242/242 [==============================] - 1s 3ms/step - loss: 0.5787 - val_loss: 0.4344\n",
      "Epoch 3/20\n",
      "242/242 [==============================] - 1s 2ms/step - loss: 0.4220 - val_loss: 0.3951\n",
      "Epoch 4/20\n",
      "242/242 [==============================] - 1s 2ms/step - loss: 0.3898 - val_loss: 0.3726\n",
      "Epoch 5/20\n",
      "242/242 [==============================] - 1s 2ms/step - loss: 0.3690 - val_loss: 0.3748\n",
      "Epoch 6/20\n",
      "242/242 [==============================] - 0s 2ms/step - loss: 0.3567 - val_loss: 0.3773\n",
      "Epoch 7/20\n",
      "242/242 [==============================] - 0s 2ms/step - loss: 0.3465 - val_loss: 0.3652\n",
      "Epoch 8/20\n",
      "242/242 [==============================] - 0s 2ms/step - loss: 0.3403 - val_loss: 0.3831\n",
      "Epoch 9/20\n",
      "242/242 [==============================] - 0s 2ms/step - loss: 0.3335 - val_loss: 0.3726\n",
      "Epoch 10/20\n",
      "242/242 [==============================] - 0s 2ms/step - loss: 0.3302 - val_loss: 0.3761\n",
      "Epoch 11/20\n",
      "242/242 [==============================] - 0s 2ms/step - loss: 0.3227 - val_loss: 0.3717\n",
      "Epoch 12/20\n",
      "242/242 [==============================] - 0s 2ms/step - loss: 0.3202 - val_loss: 0.3839\n",
      "Epoch 13/20\n",
      "242/242 [==============================] - 1s 2ms/step - loss: 0.3169 - val_loss: 0.3747\n",
      "Epoch 14/20\n",
      "242/242 [==============================] - 1s 2ms/step - loss: 0.3111 - val_loss: 0.3628\n",
      "Epoch 15/20\n",
      "242/242 [==============================] - 0s 2ms/step - loss: 0.3085 - val_loss: 0.3913\n",
      "Epoch 16/20\n",
      "242/242 [==============================] - 1s 3ms/step - loss: 0.3057 - val_loss: 0.3829\n",
      "Epoch 17/20\n",
      "242/242 [==============================] - 0s 2ms/step - loss: 0.3034 - val_loss: 0.3894\n",
      "Epoch 18/20\n",
      "242/242 [==============================] - 1s 2ms/step - loss: 0.2990 - val_loss: 0.4760\n",
      "Epoch 19/20\n",
      "242/242 [==============================] - 1s 2ms/step - loss: 0.2982 - val_loss: 0.4011\n",
      "Epoch 20/20\n",
      "242/242 [==============================] - 0s 2ms/step - loss: 0.2965 - val_loss: 0.3944\n",
      "121/121 [==============================] - 0s 1ms/step - loss: 0.3178\n"
     ]
    },
    {
     "name": "stderr",
     "output_type": "stream",
     "text": [
      "WARNING:absl:`lr` is deprecated in Keras optimizer, please use `learning_rate` or use the legacy optimizer, e.g.,tf.keras.optimizers.legacy.SGD.\n"
     ]
    },
    {
     "name": "stdout",
     "output_type": "stream",
     "text": [
      "Epoch 1/20\n",
      "242/242 [==============================] - 1s 2ms/step - loss: 0.8471 - val_loss: 0.4818\n",
      "Epoch 2/20\n",
      "242/242 [==============================] - 0s 2ms/step - loss: 0.4677 - val_loss: 0.4104\n",
      "Epoch 3/20\n",
      "242/242 [==============================] - 0s 2ms/step - loss: 0.4218 - val_loss: 0.3926\n",
      "Epoch 4/20\n",
      "242/242 [==============================] - 0s 2ms/step - loss: 0.4028 - val_loss: 0.3843\n",
      "Epoch 5/20\n",
      "242/242 [==============================] - 1s 2ms/step - loss: 0.3876 - val_loss: 0.3858\n",
      "Epoch 6/20\n",
      "242/242 [==============================] - 0s 2ms/step - loss: 0.3815 - val_loss: 0.3653\n",
      "Epoch 7/20\n",
      "242/242 [==============================] - 0s 2ms/step - loss: 0.3682 - val_loss: 0.3758\n",
      "Epoch 8/20\n",
      "242/242 [==============================] - 0s 2ms/step - loss: 0.3609 - val_loss: 0.3678\n",
      "Epoch 9/20\n",
      "242/242 [==============================] - 0s 2ms/step - loss: 0.3508 - val_loss: 0.4174\n",
      "Epoch 10/20\n",
      "242/242 [==============================] - 0s 2ms/step - loss: 0.3457 - val_loss: 0.4235\n",
      "Epoch 11/20\n",
      "242/242 [==============================] - 0s 2ms/step - loss: 0.3407 - val_loss: 0.4303\n",
      "Epoch 12/20\n",
      "242/242 [==============================] - 0s 2ms/step - loss: 0.3337 - val_loss: 0.3730\n",
      "Epoch 13/20\n",
      "242/242 [==============================] - 0s 2ms/step - loss: 0.3309 - val_loss: 0.3605\n",
      "Epoch 14/20\n",
      "242/242 [==============================] - 0s 2ms/step - loss: 0.3240 - val_loss: 0.4202\n",
      "Epoch 15/20\n",
      "242/242 [==============================] - 0s 2ms/step - loss: 0.3215 - val_loss: 0.3734\n",
      "Epoch 16/20\n",
      "242/242 [==============================] - 0s 2ms/step - loss: 0.3144 - val_loss: 0.3983\n",
      "Epoch 17/20\n",
      "242/242 [==============================] - 0s 2ms/step - loss: 0.3117 - val_loss: 0.3811\n",
      "Epoch 18/20\n",
      "242/242 [==============================] - 0s 2ms/step - loss: 0.3096 - val_loss: 0.3861\n",
      "Epoch 19/20\n",
      "242/242 [==============================] - 0s 2ms/step - loss: 0.3035 - val_loss: 0.4019\n",
      "Epoch 20/20\n",
      "242/242 [==============================] - 0s 2ms/step - loss: 0.3031 - val_loss: 0.4065\n",
      "121/121 [==============================] - 0s 1ms/step - loss: 0.3395\n"
     ]
    },
    {
     "name": "stderr",
     "output_type": "stream",
     "text": [
      "WARNING:absl:`lr` is deprecated in Keras optimizer, please use `learning_rate` or use the legacy optimizer, e.g.,tf.keras.optimizers.legacy.SGD.\n"
     ]
    },
    {
     "name": "stdout",
     "output_type": "stream",
     "text": [
      "Epoch 1/20\n",
      "242/242 [==============================] - 1s 2ms/step - loss: 0.8114 - val_loss: 0.4982\n",
      "Epoch 2/20\n",
      "242/242 [==============================] - 0s 2ms/step - loss: 0.4815 - val_loss: 0.4136\n",
      "Epoch 3/20\n",
      "242/242 [==============================] - 0s 2ms/step - loss: 0.4021 - val_loss: 0.3823\n",
      "Epoch 4/20\n",
      "242/242 [==============================] - 0s 2ms/step - loss: 0.3798 - val_loss: 0.3764\n",
      "Epoch 5/20\n",
      "242/242 [==============================] - 0s 2ms/step - loss: 0.3686 - val_loss: 0.3745\n",
      "Epoch 6/20\n",
      "242/242 [==============================] - 1s 3ms/step - loss: 0.3569 - val_loss: 0.3970\n",
      "Epoch 7/20\n",
      "242/242 [==============================] - 0s 2ms/step - loss: 0.3510 - val_loss: 0.3642\n",
      "Epoch 8/20\n",
      "242/242 [==============================] - 0s 2ms/step - loss: 0.3451 - val_loss: 0.3535\n",
      "Epoch 9/20\n",
      "242/242 [==============================] - 0s 2ms/step - loss: 0.3379 - val_loss: 0.3513\n",
      "Epoch 10/20\n",
      "242/242 [==============================] - 1s 2ms/step - loss: 0.3325 - val_loss: 0.3609\n",
      "Epoch 11/20\n",
      "242/242 [==============================] - 0s 2ms/step - loss: 0.3250 - val_loss: 0.3688\n",
      "Epoch 12/20\n",
      "242/242 [==============================] - 0s 2ms/step - loss: 0.3246 - val_loss: 0.3578\n",
      "Epoch 13/20\n",
      "242/242 [==============================] - 0s 2ms/step - loss: 0.3217 - val_loss: 0.3623\n",
      "Epoch 14/20\n",
      "242/242 [==============================] - 0s 2ms/step - loss: 0.3148 - val_loss: 0.3615\n",
      "Epoch 15/20\n",
      "242/242 [==============================] - 0s 2ms/step - loss: 0.3124 - val_loss: 0.3496\n",
      "Epoch 16/20\n",
      "242/242 [==============================] - 0s 2ms/step - loss: 0.3118 - val_loss: 0.3552\n",
      "Epoch 17/20\n",
      "242/242 [==============================] - 0s 2ms/step - loss: 0.3056 - val_loss: 0.3738\n",
      "Epoch 18/20\n",
      "242/242 [==============================] - 0s 2ms/step - loss: 0.3057 - val_loss: 0.3796\n",
      "Epoch 19/20\n",
      "242/242 [==============================] - 0s 2ms/step - loss: 0.3037 - val_loss: 0.3482\n",
      "Epoch 20/20\n",
      "242/242 [==============================] - 0s 2ms/step - loss: 0.2970 - val_loss: 0.3815\n",
      "121/121 [==============================] - 0s 1ms/step - loss: 0.3373\n"
     ]
    },
    {
     "name": "stderr",
     "output_type": "stream",
     "text": [
      "WARNING:absl:`lr` is deprecated in Keras optimizer, please use `learning_rate` or use the legacy optimizer, e.g.,tf.keras.optimizers.legacy.SGD.\n"
     ]
    },
    {
     "name": "stdout",
     "output_type": "stream",
     "text": [
      "Epoch 1/20\n",
      "242/242 [==============================] - 2s 5ms/step - loss: 3.3541 - val_loss: 9.7855\n",
      "Epoch 2/20\n",
      "242/242 [==============================] - 0s 2ms/step - loss: 32.0574 - val_loss: 263.9477\n",
      "Epoch 3/20\n",
      "242/242 [==============================] - 0s 2ms/step - loss: 989.5757 - val_loss: 8040.5151\n",
      "Epoch 4/20\n",
      "242/242 [==============================] - 0s 2ms/step - loss: 27477.0508 - val_loss: 249642.5938\n",
      "Epoch 5/20\n",
      "242/242 [==============================] - 0s 2ms/step - loss: 974712.7500 - val_loss: 7760225.0000\n",
      "Epoch 6/20\n",
      "242/242 [==============================] - 0s 2ms/step - loss: 30052402.0000 - val_loss: 240604496.0000\n",
      "Epoch 7/20\n",
      "242/242 [==============================] - 0s 2ms/step - loss: 860565696.0000 - val_loss: 7476563968.0000\n",
      "Epoch 8/20\n",
      "242/242 [==============================] - 0s 2ms/step - loss: 27816163328.0000 - val_loss: 233479143424.0000\n",
      "Epoch 9/20\n",
      "242/242 [==============================] - 0s 2ms/step - loss: 1568082231296.0000 - val_loss: 7293288054784.0000\n",
      "Epoch 10/20\n",
      "242/242 [==============================] - 0s 2ms/step - loss: 49808832200704.0000 - val_loss: 225135457992704.0000\n",
      "Epoch 11/20\n",
      "242/242 [==============================] - 0s 2ms/step - loss: 1488474335084544.0000 - val_loss: 7030478137720832.0000\n",
      "121/121 [==============================] - 0s 1ms/step - loss: 368205902118912.0000\n"
     ]
    },
    {
     "name": "stderr",
     "output_type": "stream",
     "text": [
      "WARNING:absl:`lr` is deprecated in Keras optimizer, please use `learning_rate` or use the legacy optimizer, e.g.,tf.keras.optimizers.legacy.SGD.\n"
     ]
    },
    {
     "name": "stdout",
     "output_type": "stream",
     "text": [
      "Epoch 1/20\n",
      "242/242 [==============================] - 1s 2ms/step - loss: 1.3815 - val_loss: 0.8186\n",
      "Epoch 2/20\n",
      "242/242 [==============================] - 0s 2ms/step - loss: 0.6005 - val_loss: 0.6423\n",
      "Epoch 3/20\n",
      "242/242 [==============================] - 0s 2ms/step - loss: 0.5664 - val_loss: 0.5535\n",
      "Epoch 4/20\n",
      "242/242 [==============================] - 1s 2ms/step - loss: 0.5489 - val_loss: 0.5237\n",
      "Epoch 5/20\n",
      "242/242 [==============================] - 0s 2ms/step - loss: 0.5383 - val_loss: 0.5269\n",
      "Epoch 6/20\n",
      "242/242 [==============================] - 0s 2ms/step - loss: 0.5321 - val_loss: 0.5552\n",
      "Epoch 7/20\n",
      "242/242 [==============================] - 0s 2ms/step - loss: 0.5275 - val_loss: 0.5893\n",
      "Epoch 8/20\n",
      "242/242 [==============================] - 0s 2ms/step - loss: 0.5220 - val_loss: 0.6330\n",
      "Epoch 9/20\n",
      "242/242 [==============================] - 0s 2ms/step - loss: 0.5229 - val_loss: 0.6754\n",
      "Epoch 10/20\n",
      "242/242 [==============================] - 0s 2ms/step - loss: 0.5216 - val_loss: 0.7198\n",
      "Epoch 11/20\n",
      "242/242 [==============================] - 0s 2ms/step - loss: 0.5197 - val_loss: 0.7649\n",
      "Epoch 12/20\n",
      "242/242 [==============================] - 0s 2ms/step - loss: 0.5210 - val_loss: 0.7991\n",
      "Epoch 13/20\n",
      "242/242 [==============================] - 0s 2ms/step - loss: 0.5172 - val_loss: 0.8403\n",
      "Epoch 14/20\n",
      "242/242 [==============================] - 0s 2ms/step - loss: 0.5188 - val_loss: 0.8625\n",
      "121/121 [==============================] - 0s 1ms/step - loss: 1.6618\n"
     ]
    },
    {
     "name": "stderr",
     "output_type": "stream",
     "text": [
      "WARNING:absl:`lr` is deprecated in Keras optimizer, please use `learning_rate` or use the legacy optimizer, e.g.,tf.keras.optimizers.legacy.SGD.\n"
     ]
    },
    {
     "name": "stdout",
     "output_type": "stream",
     "text": [
      "Epoch 1/20\n",
      "242/242 [==============================] - 1s 2ms/step - loss: 1.4129 - val_loss: 1.8189\n",
      "Epoch 2/20\n",
      "242/242 [==============================] - 0s 2ms/step - loss: 5.4752 - val_loss: 25.7648\n",
      "Epoch 3/20\n",
      "242/242 [==============================] - 1s 2ms/step - loss: 65.2484 - val_loss: 591.9763\n",
      "Epoch 4/20\n",
      "242/242 [==============================] - 0s 2ms/step - loss: 1735.4503 - val_loss: 14949.1289\n",
      "Epoch 5/20\n",
      "242/242 [==============================] - 0s 2ms/step - loss: 44561.2305 - val_loss: 380750.7188\n",
      "Epoch 6/20\n",
      "242/242 [==============================] - 0s 2ms/step - loss: 1175330.2500 - val_loss: 9785585.0000\n",
      "Epoch 7/20\n",
      "242/242 [==============================] - 0s 2ms/step - loss: 32287606.0000 - val_loss: 251415072.0000\n",
      "Epoch 8/20\n",
      "242/242 [==============================] - 0s 2ms/step - loss: 1738622336.0000 - val_loss: 6773704704.0000\n",
      "Epoch 9/20\n",
      "242/242 [==============================] - 0s 2ms/step - loss: 20684980224.0000 - val_loss: 174432829440.0000\n",
      "Epoch 10/20\n",
      "242/242 [==============================] - 0s 2ms/step - loss: 758854975488.0000 - val_loss: 4442786103296.0000\n",
      "Epoch 11/20\n",
      "242/242 [==============================] - 0s 2ms/step - loss: 16666388856832.0000 - val_loss: 114063283585024.0000\n",
      "121/121 [==============================] - 0s 1ms/step - loss: 1323111022592.0000\n"
     ]
    },
    {
     "name": "stderr",
     "output_type": "stream",
     "text": [
      "WARNING:absl:`lr` is deprecated in Keras optimizer, please use `learning_rate` or use the legacy optimizer, e.g.,tf.keras.optimizers.legacy.SGD.\n"
     ]
    },
    {
     "name": "stdout",
     "output_type": "stream",
     "text": [
      "Epoch 1/20\n",
      "242/242 [==============================] - 1s 2ms/step - loss: 0.8585 - val_loss: 0.6008\n",
      "Epoch 2/20\n",
      "242/242 [==============================] - 0s 2ms/step - loss: 0.6721 - val_loss: 0.4705\n",
      "Epoch 3/20\n",
      "242/242 [==============================] - 0s 2ms/step - loss: 0.4678 - val_loss: 0.4321\n",
      "Epoch 4/20\n",
      "242/242 [==============================] - 0s 2ms/step - loss: 0.4379 - val_loss: 0.4178\n",
      "Epoch 5/20\n",
      "242/242 [==============================] - 0s 2ms/step - loss: 0.4208 - val_loss: 0.4015\n",
      "Epoch 6/20\n",
      "242/242 [==============================] - 0s 2ms/step - loss: 0.4093 - val_loss: 0.3977\n",
      "Epoch 7/20\n",
      "242/242 [==============================] - 0s 2ms/step - loss: 0.4020 - val_loss: 0.3924\n",
      "Epoch 8/20\n",
      "242/242 [==============================] - 0s 2ms/step - loss: 0.3940 - val_loss: 0.4010\n",
      "Epoch 9/20\n",
      "242/242 [==============================] - 0s 2ms/step - loss: 0.3888 - val_loss: 0.3975\n",
      "Epoch 10/20\n",
      "242/242 [==============================] - 0s 2ms/step - loss: 0.3831 - val_loss: 0.3882\n",
      "Epoch 11/20\n",
      "242/242 [==============================] - 0s 2ms/step - loss: 0.3802 - val_loss: 0.3996\n",
      "Epoch 12/20\n",
      "242/242 [==============================] - 0s 2ms/step - loss: 0.3775 - val_loss: 0.3928\n",
      "Epoch 13/20\n",
      "242/242 [==============================] - 0s 2ms/step - loss: 0.3743 - val_loss: 0.3969\n",
      "Epoch 14/20\n",
      "242/242 [==============================] - 1s 2ms/step - loss: 0.3718 - val_loss: 0.3945\n",
      "Epoch 15/20\n",
      "242/242 [==============================] - 0s 2ms/step - loss: 0.3693 - val_loss: 0.4058\n",
      "Epoch 16/20\n",
      "242/242 [==============================] - 0s 2ms/step - loss: 0.3669 - val_loss: 0.3987\n",
      "Epoch 17/20\n",
      "242/242 [==============================] - 0s 2ms/step - loss: 0.3648 - val_loss: 0.3972\n",
      "Epoch 18/20\n",
      "242/242 [==============================] - 0s 2ms/step - loss: 0.3635 - val_loss: 0.3959\n",
      "Epoch 19/20\n",
      "242/242 [==============================] - 0s 2ms/step - loss: 0.3610 - val_loss: 0.4036\n",
      "Epoch 20/20\n",
      "242/242 [==============================] - 0s 2ms/step - loss: 0.3590 - val_loss: 0.4017\n",
      "121/121 [==============================] - 0s 2ms/step - loss: 0.3834\n"
     ]
    },
    {
     "name": "stderr",
     "output_type": "stream",
     "text": [
      "WARNING:absl:`lr` is deprecated in Keras optimizer, please use `learning_rate` or use the legacy optimizer, e.g.,tf.keras.optimizers.legacy.SGD.\n"
     ]
    },
    {
     "name": "stdout",
     "output_type": "stream",
     "text": [
      "Epoch 1/20\n",
      "242/242 [==============================] - 1s 2ms/step - loss: 0.8537 - val_loss: 0.5544\n",
      "Epoch 2/20\n",
      "242/242 [==============================] - 0s 2ms/step - loss: 0.5170 - val_loss: 0.4512\n",
      "Epoch 3/20\n",
      "242/242 [==============================] - 0s 2ms/step - loss: 0.5008 - val_loss: 0.4466\n",
      "Epoch 4/20\n",
      "242/242 [==============================] - 0s 2ms/step - loss: 0.4604 - val_loss: 0.4542\n",
      "Epoch 5/20\n",
      "242/242 [==============================] - 0s 2ms/step - loss: 0.4434 - val_loss: 0.4522\n",
      "Epoch 6/20\n",
      "242/242 [==============================] - 0s 2ms/step - loss: 0.4281 - val_loss: 0.4538\n",
      "Epoch 7/20\n",
      "242/242 [==============================] - 0s 2ms/step - loss: 0.4223 - val_loss: 0.4660\n",
      "Epoch 8/20\n",
      "242/242 [==============================] - 0s 2ms/step - loss: 0.4215 - val_loss: 0.4604\n",
      "Epoch 9/20\n",
      "242/242 [==============================] - 0s 2ms/step - loss: 0.4106 - val_loss: 0.4497\n",
      "Epoch 10/20\n",
      "242/242 [==============================] - 0s 2ms/step - loss: 0.4068 - val_loss: 0.4636\n",
      "Epoch 11/20\n",
      "242/242 [==============================] - 0s 2ms/step - loss: 0.4000 - val_loss: 0.4490\n",
      "Epoch 12/20\n",
      "242/242 [==============================] - 0s 2ms/step - loss: 0.3952 - val_loss: 0.4571\n",
      "Epoch 13/20\n",
      "242/242 [==============================] - 0s 2ms/step - loss: 0.3942 - val_loss: 0.4279\n",
      "Epoch 14/20\n",
      "242/242 [==============================] - 0s 2ms/step - loss: 0.3878 - val_loss: 0.4291\n",
      "Epoch 15/20\n",
      "242/242 [==============================] - 1s 2ms/step - loss: 0.3857 - val_loss: 0.4120\n",
      "Epoch 16/20\n",
      "242/242 [==============================] - 0s 2ms/step - loss: 0.3853 - val_loss: 0.4057\n",
      "Epoch 17/20\n",
      "242/242 [==============================] - 0s 2ms/step - loss: 0.3846 - val_loss: 0.4099\n",
      "Epoch 18/20\n",
      "242/242 [==============================] - 0s 2ms/step - loss: 0.3770 - val_loss: 0.4099\n",
      "Epoch 19/20\n",
      "242/242 [==============================] - 0s 2ms/step - loss: 0.3771 - val_loss: 0.4077\n",
      "Epoch 20/20\n",
      "242/242 [==============================] - 1s 2ms/step - loss: 0.4605 - val_loss: 0.3918\n",
      "121/121 [==============================] - 0s 966us/step - loss: 0.3556\n"
     ]
    },
    {
     "name": "stderr",
     "output_type": "stream",
     "text": [
      "WARNING:absl:`lr` is deprecated in Keras optimizer, please use `learning_rate` or use the legacy optimizer, e.g.,tf.keras.optimizers.legacy.SGD.\n"
     ]
    },
    {
     "name": "stdout",
     "output_type": "stream",
     "text": [
      "Epoch 1/20\n",
      "242/242 [==============================] - 1s 2ms/step - loss: 1.3605 - val_loss: 0.5917\n",
      "Epoch 2/20\n",
      "242/242 [==============================] - 0s 2ms/step - loss: 0.5259 - val_loss: 0.4552\n",
      "Epoch 3/20\n",
      "242/242 [==============================] - 1s 2ms/step - loss: 0.4361 - val_loss: 0.4327\n",
      "Epoch 4/20\n",
      "242/242 [==============================] - 0s 2ms/step - loss: 0.4066 - val_loss: 0.4074\n",
      "Epoch 5/20\n",
      "242/242 [==============================] - 0s 2ms/step - loss: 0.3933 - val_loss: 0.3969\n",
      "Epoch 6/20\n",
      "242/242 [==============================] - 0s 2ms/step - loss: 0.3860 - val_loss: 0.3971\n",
      "Epoch 7/20\n",
      "242/242 [==============================] - 0s 2ms/step - loss: 0.3782 - val_loss: 0.3980\n",
      "Epoch 8/20\n",
      "242/242 [==============================] - 0s 2ms/step - loss: 0.3766 - val_loss: 0.3935\n",
      "Epoch 9/20\n",
      "242/242 [==============================] - 0s 2ms/step - loss: 0.3703 - val_loss: 0.4026\n",
      "Epoch 10/20\n",
      "242/242 [==============================] - 0s 2ms/step - loss: 0.3671 - val_loss: 0.3991\n",
      "Epoch 11/20\n",
      "242/242 [==============================] - 0s 2ms/step - loss: 0.3651 - val_loss: 0.4077\n",
      "Epoch 12/20\n",
      "242/242 [==============================] - 0s 2ms/step - loss: 0.3628 - val_loss: 0.3988\n",
      "Epoch 13/20\n",
      "242/242 [==============================] - 0s 2ms/step - loss: 0.3613 - val_loss: 0.4005\n",
      "Epoch 14/20\n",
      "242/242 [==============================] - 0s 2ms/step - loss: 0.3566 - val_loss: 0.4138\n",
      "Epoch 15/20\n",
      "242/242 [==============================] - 0s 2ms/step - loss: 0.3564 - val_loss: 0.3981\n",
      "Epoch 16/20\n",
      "242/242 [==============================] - 0s 2ms/step - loss: 0.3532 - val_loss: 0.4027\n",
      "Epoch 17/20\n",
      "242/242 [==============================] - 0s 2ms/step - loss: 0.3509 - val_loss: 0.4087\n",
      "Epoch 18/20\n",
      "242/242 [==============================] - 0s 2ms/step - loss: 0.3512 - val_loss: 0.3999\n",
      "121/121 [==============================] - 0s 1ms/step - loss: 0.3750\n"
     ]
    },
    {
     "name": "stderr",
     "output_type": "stream",
     "text": [
      "WARNING:absl:`lr` is deprecated in Keras optimizer, please use `learning_rate` or use the legacy optimizer, e.g.,tf.keras.optimizers.legacy.SGD.\n"
     ]
    },
    {
     "name": "stdout",
     "output_type": "stream",
     "text": [
      "Epoch 1/20\n",
      "242/242 [==============================] - 1s 2ms/step - loss: 1.3356 - val_loss: 0.6553\n",
      "Epoch 2/20\n",
      "242/242 [==============================] - 0s 2ms/step - loss: 0.7410 - val_loss: 0.5077\n",
      "Epoch 3/20\n",
      "242/242 [==============================] - 0s 2ms/step - loss: 0.4606 - val_loss: 0.4107\n",
      "Epoch 4/20\n",
      "242/242 [==============================] - 0s 2ms/step - loss: 0.4072 - val_loss: 0.3897\n",
      "Epoch 5/20\n",
      "242/242 [==============================] - 1s 2ms/step - loss: 0.3841 - val_loss: 0.3711\n",
      "Epoch 6/20\n",
      "242/242 [==============================] - 0s 2ms/step - loss: 0.3698 - val_loss: 0.3630\n",
      "Epoch 7/20\n",
      "242/242 [==============================] - 1s 2ms/step - loss: 0.3591 - val_loss: 0.3592\n",
      "Epoch 8/20\n",
      "242/242 [==============================] - 1s 2ms/step - loss: 0.3486 - val_loss: 0.3838\n",
      "Epoch 9/20\n",
      "242/242 [==============================] - 0s 2ms/step - loss: 0.3416 - val_loss: 0.3873\n",
      "Epoch 10/20\n",
      "242/242 [==============================] - 0s 2ms/step - loss: 0.3360 - val_loss: 0.4080\n",
      "Epoch 11/20\n",
      "242/242 [==============================] - 1s 2ms/step - loss: 0.3312 - val_loss: 0.3686\n",
      "Epoch 12/20\n",
      "242/242 [==============================] - 1s 2ms/step - loss: 0.3257 - val_loss: 0.3558\n",
      "Epoch 13/20\n",
      "242/242 [==============================] - 0s 2ms/step - loss: 0.3229 - val_loss: 0.3959\n",
      "Epoch 14/20\n",
      "242/242 [==============================] - 0s 2ms/step - loss: 0.3185 - val_loss: 0.3873\n",
      "Epoch 15/20\n",
      "242/242 [==============================] - 0s 2ms/step - loss: 0.3166 - val_loss: 0.3715\n",
      "Epoch 16/20\n",
      "242/242 [==============================] - 0s 2ms/step - loss: 0.3135 - val_loss: 0.4297\n",
      "Epoch 17/20\n",
      "242/242 [==============================] - 1s 2ms/step - loss: 0.3123 - val_loss: 0.3969\n",
      "Epoch 18/20\n",
      "242/242 [==============================] - 1s 2ms/step - loss: 0.3071 - val_loss: 0.4487\n",
      "Epoch 19/20\n",
      "242/242 [==============================] - 1s 2ms/step - loss: 0.3070 - val_loss: 0.3724\n",
      "Epoch 20/20\n",
      "242/242 [==============================] - 1s 2ms/step - loss: 0.3054 - val_loss: 0.3776\n",
      "121/121 [==============================] - 0s 1ms/step - loss: 0.3261\n"
     ]
    },
    {
     "name": "stderr",
     "output_type": "stream",
     "text": [
      "WARNING:absl:`lr` is deprecated in Keras optimizer, please use `learning_rate` or use the legacy optimizer, e.g.,tf.keras.optimizers.legacy.SGD.\n"
     ]
    },
    {
     "name": "stdout",
     "output_type": "stream",
     "text": [
      "Epoch 1/20\n",
      "242/242 [==============================] - 1s 2ms/step - loss: 0.8582 - val_loss: 0.5632\n",
      "Epoch 2/20\n",
      "242/242 [==============================] - 0s 2ms/step - loss: 0.5089 - val_loss: 0.4654\n",
      "Epoch 3/20\n",
      "242/242 [==============================] - 0s 2ms/step - loss: 0.4503 - val_loss: 0.4095\n",
      "Epoch 4/20\n",
      "242/242 [==============================] - 1s 2ms/step - loss: 0.4220 - val_loss: 0.3886\n",
      "Epoch 5/20\n",
      "242/242 [==============================] - 0s 2ms/step - loss: 0.4023 - val_loss: 0.3747\n",
      "Epoch 6/20\n",
      "242/242 [==============================] - 0s 2ms/step - loss: 0.3884 - val_loss: 0.4054\n",
      "Epoch 7/20\n",
      "242/242 [==============================] - 0s 2ms/step - loss: 0.3805 - val_loss: 0.3778\n",
      "Epoch 8/20\n",
      "242/242 [==============================] - 0s 2ms/step - loss: 0.3686 - val_loss: 0.3785\n",
      "Epoch 9/20\n",
      "242/242 [==============================] - 0s 2ms/step - loss: 0.3576 - val_loss: 0.3756\n",
      "Epoch 10/20\n",
      "242/242 [==============================] - 1s 2ms/step - loss: 0.3549 - val_loss: 0.3731\n",
      "Epoch 11/20\n",
      "242/242 [==============================] - 0s 2ms/step - loss: 0.3482 - val_loss: 0.3690\n",
      "Epoch 12/20\n",
      "242/242 [==============================] - 0s 2ms/step - loss: 0.3415 - val_loss: 0.3649\n",
      "Epoch 13/20\n",
      "242/242 [==============================] - 0s 2ms/step - loss: 0.3374 - val_loss: 0.3986\n",
      "Epoch 14/20\n",
      "242/242 [==============================] - 0s 2ms/step - loss: 0.3324 - val_loss: 0.4153\n",
      "Epoch 15/20\n",
      "242/242 [==============================] - 0s 2ms/step - loss: 0.3301 - val_loss: 0.3917\n",
      "Epoch 16/20\n",
      "242/242 [==============================] - 0s 2ms/step - loss: 0.3234 - val_loss: 0.3753\n",
      "Epoch 17/20\n",
      "242/242 [==============================] - 1s 2ms/step - loss: 0.3230 - val_loss: 0.4012\n",
      "Epoch 18/20\n",
      "242/242 [==============================] - 0s 2ms/step - loss: 0.3208 - val_loss: 0.4023\n",
      "Epoch 19/20\n",
      "242/242 [==============================] - 0s 2ms/step - loss: 0.3150 - val_loss: 0.4243\n",
      "Epoch 20/20\n",
      "242/242 [==============================] - 1s 3ms/step - loss: 0.3148 - val_loss: 0.3904\n",
      "121/121 [==============================] - 0s 1ms/step - loss: 0.3819\n"
     ]
    },
    {
     "name": "stderr",
     "output_type": "stream",
     "text": [
      "WARNING:absl:`lr` is deprecated in Keras optimizer, please use `learning_rate` or use the legacy optimizer, e.g.,tf.keras.optimizers.legacy.SGD.\n"
     ]
    },
    {
     "name": "stdout",
     "output_type": "stream",
     "text": [
      "Epoch 1/20\n",
      "242/242 [==============================] - 1s 2ms/step - loss: 1.0012 - val_loss: 0.5768\n",
      "Epoch 2/20\n",
      "242/242 [==============================] - 0s 2ms/step - loss: 0.4674 - val_loss: 0.4392\n",
      "Epoch 3/20\n",
      "242/242 [==============================] - 0s 2ms/step - loss: 0.4178 - val_loss: 0.4111\n",
      "Epoch 4/20\n",
      "242/242 [==============================] - 0s 2ms/step - loss: 0.4066 - val_loss: 0.3934\n",
      "Epoch 5/20\n",
      "242/242 [==============================] - 0s 2ms/step - loss: 0.3912 - val_loss: 0.3848\n",
      "Epoch 6/20\n",
      "242/242 [==============================] - 1s 2ms/step - loss: 0.3811 - val_loss: 0.3873\n",
      "Epoch 7/20\n",
      "242/242 [==============================] - 1s 3ms/step - loss: 0.3726 - val_loss: 0.3762\n",
      "Epoch 8/20\n",
      "242/242 [==============================] - 0s 2ms/step - loss: 0.3625 - val_loss: 0.3712\n",
      "Epoch 9/20\n",
      "242/242 [==============================] - 0s 2ms/step - loss: 0.3599 - val_loss: 0.3718\n",
      "Epoch 10/20\n",
      "242/242 [==============================] - 0s 2ms/step - loss: 0.3536 - val_loss: 0.3673\n",
      "Epoch 11/20\n",
      "242/242 [==============================] - 0s 2ms/step - loss: 0.3475 - val_loss: 0.3776\n",
      "Epoch 12/20\n",
      "242/242 [==============================] - 0s 2ms/step - loss: 0.3436 - val_loss: 0.4039\n",
      "Epoch 13/20\n",
      "242/242 [==============================] - 0s 2ms/step - loss: 0.3362 - val_loss: 0.3714\n",
      "Epoch 14/20\n",
      "242/242 [==============================] - 1s 2ms/step - loss: 0.3361 - val_loss: 0.3721\n",
      "Epoch 15/20\n",
      "242/242 [==============================] - 0s 2ms/step - loss: 0.3343 - val_loss: 0.3633\n",
      "Epoch 16/20\n",
      "242/242 [==============================] - 1s 2ms/step - loss: 0.3269 - val_loss: 0.3885\n",
      "Epoch 17/20\n",
      "242/242 [==============================] - 0s 2ms/step - loss: 0.3274 - val_loss: 0.3593\n",
      "Epoch 18/20\n",
      "242/242 [==============================] - 0s 2ms/step - loss: 0.3217 - val_loss: 0.3688\n",
      "Epoch 19/20\n",
      "242/242 [==============================] - 0s 2ms/step - loss: 0.3171 - val_loss: 0.4085\n",
      "Epoch 20/20\n",
      "242/242 [==============================] - 0s 2ms/step - loss: 0.3156 - val_loss: 0.3845\n",
      "121/121 [==============================] - 0s 1ms/step - loss: 0.3294\n"
     ]
    },
    {
     "name": "stderr",
     "output_type": "stream",
     "text": [
      "WARNING:absl:`lr` is deprecated in Keras optimizer, please use `learning_rate` or use the legacy optimizer, e.g.,tf.keras.optimizers.legacy.SGD.\n"
     ]
    },
    {
     "name": "stdout",
     "output_type": "stream",
     "text": [
      "Epoch 1/20\n",
      "242/242 [==============================] - 1s 2ms/step - loss: 0.9261 - val_loss: 0.5228\n",
      "Epoch 2/20\n",
      "242/242 [==============================] - 0s 2ms/step - loss: 0.4812 - val_loss: 0.4211\n",
      "Epoch 3/20\n",
      "242/242 [==============================] - 0s 2ms/step - loss: 0.4178 - val_loss: 0.3958\n",
      "Epoch 4/20\n",
      "242/242 [==============================] - 0s 2ms/step - loss: 0.3950 - val_loss: 0.3941\n",
      "Epoch 5/20\n",
      "242/242 [==============================] - 0s 2ms/step - loss: 0.3795 - val_loss: 0.3807\n",
      "Epoch 6/20\n",
      "242/242 [==============================] - 0s 2ms/step - loss: 0.3682 - val_loss: 0.3697\n",
      "Epoch 7/20\n",
      "242/242 [==============================] - 0s 2ms/step - loss: 0.3614 - val_loss: 0.3794\n",
      "Epoch 8/20\n",
      "242/242 [==============================] - 0s 2ms/step - loss: 0.3536 - val_loss: 0.3752\n",
      "Epoch 9/20\n",
      "242/242 [==============================] - 0s 2ms/step - loss: 0.3488 - val_loss: 0.3686\n",
      "Epoch 10/20\n",
      "242/242 [==============================] - 0s 2ms/step - loss: 0.3428 - val_loss: 0.3905\n",
      "Epoch 11/20\n",
      "242/242 [==============================] - 0s 2ms/step - loss: 0.3384 - val_loss: 0.3681\n",
      "Epoch 12/20\n",
      "242/242 [==============================] - 0s 2ms/step - loss: 0.3342 - val_loss: 0.3722\n",
      "Epoch 13/20\n",
      "242/242 [==============================] - 1s 2ms/step - loss: 0.3300 - val_loss: 0.3810\n",
      "Epoch 14/20\n",
      "242/242 [==============================] - 0s 2ms/step - loss: 0.3271 - val_loss: 0.3853\n",
      "Epoch 15/20\n",
      "242/242 [==============================] - 0s 2ms/step - loss: 0.3223 - val_loss: 0.3672\n",
      "Epoch 16/20\n",
      "242/242 [==============================] - 0s 2ms/step - loss: 0.3202 - val_loss: 0.3851\n",
      "Epoch 17/20\n",
      "242/242 [==============================] - 1s 3ms/step - loss: 0.3169 - val_loss: 0.3721\n",
      "Epoch 18/20\n",
      "242/242 [==============================] - 0s 2ms/step - loss: 0.3144 - val_loss: 0.3759\n",
      "Epoch 19/20\n",
      "242/242 [==============================] - 0s 2ms/step - loss: 0.3113 - val_loss: 0.4199\n",
      "Epoch 20/20\n",
      "242/242 [==============================] - 0s 2ms/step - loss: 0.3083 - val_loss: 0.4074\n",
      "121/121 [==============================] - 0s 1ms/step - loss: 0.3321\n"
     ]
    },
    {
     "name": "stderr",
     "output_type": "stream",
     "text": [
      "WARNING:absl:`lr` is deprecated in Keras optimizer, please use `learning_rate` or use the legacy optimizer, e.g.,tf.keras.optimizers.legacy.SGD.\n"
     ]
    },
    {
     "name": "stdout",
     "output_type": "stream",
     "text": [
      "Epoch 1/20\n",
      "242/242 [==============================] - 1s 2ms/step - loss: 0.7951 - val_loss: 0.6109\n",
      "Epoch 2/20\n",
      "242/242 [==============================] - 0s 2ms/step - loss: 0.4986 - val_loss: 0.4175\n",
      "Epoch 3/20\n",
      "242/242 [==============================] - 0s 2ms/step - loss: 0.4404 - val_loss: 0.3932\n",
      "Epoch 4/20\n",
      "242/242 [==============================] - 0s 2ms/step - loss: 0.4103 - val_loss: 0.3957\n",
      "Epoch 5/20\n",
      "242/242 [==============================] - 0s 2ms/step - loss: 0.3971 - val_loss: 0.3869\n",
      "Epoch 6/20\n",
      "242/242 [==============================] - 0s 2ms/step - loss: 0.3833 - val_loss: 0.4266\n",
      "Epoch 7/20\n",
      "242/242 [==============================] - 0s 2ms/step - loss: 0.3729 - val_loss: 0.3717\n",
      "Epoch 8/20\n",
      "242/242 [==============================] - 0s 2ms/step - loss: 0.3692 - val_loss: 0.3763\n",
      "Epoch 9/20\n",
      "242/242 [==============================] - 0s 2ms/step - loss: 0.3611 - val_loss: 0.3683\n",
      "Epoch 10/20\n",
      "242/242 [==============================] - 0s 2ms/step - loss: 0.3552 - val_loss: 0.3676\n",
      "Epoch 11/20\n",
      "242/242 [==============================] - 0s 2ms/step - loss: 0.3495 - val_loss: 0.3647\n",
      "Epoch 12/20\n",
      "242/242 [==============================] - 0s 2ms/step - loss: 0.3431 - val_loss: 0.3845\n",
      "Epoch 13/20\n",
      "242/242 [==============================] - 0s 2ms/step - loss: 0.3390 - val_loss: 0.4030\n",
      "Epoch 14/20\n",
      "242/242 [==============================] - 0s 2ms/step - loss: 0.3359 - val_loss: 0.3947\n",
      "Epoch 15/20\n",
      "242/242 [==============================] - 0s 2ms/step - loss: 0.3316 - val_loss: 0.3856\n",
      "Epoch 16/20\n",
      "242/242 [==============================] - 0s 2ms/step - loss: 0.3340 - val_loss: 0.4053\n",
      "Epoch 17/20\n",
      "242/242 [==============================] - 0s 2ms/step - loss: 0.3235 - val_loss: 0.3858\n",
      "Epoch 18/20\n",
      "242/242 [==============================] - 0s 2ms/step - loss: 0.3209 - val_loss: 0.4146\n",
      "Epoch 19/20\n",
      "242/242 [==============================] - 0s 2ms/step - loss: 0.3195 - val_loss: 0.4325\n",
      "Epoch 20/20\n",
      "242/242 [==============================] - 0s 2ms/step - loss: 0.3164 - val_loss: 0.4067\n",
      "121/121 [==============================] - 0s 1ms/step - loss: 0.3712\n"
     ]
    },
    {
     "name": "stderr",
     "output_type": "stream",
     "text": [
      "WARNING:absl:`lr` is deprecated in Keras optimizer, please use `learning_rate` or use the legacy optimizer, e.g.,tf.keras.optimizers.legacy.SGD.\n"
     ]
    },
    {
     "name": "stdout",
     "output_type": "stream",
     "text": [
      "Epoch 1/20\n",
      "242/242 [==============================] - 1s 2ms/step - loss: 1.2185 - val_loss: 0.5499\n",
      "Epoch 2/20\n",
      "242/242 [==============================] - 0s 2ms/step - loss: 0.4827 - val_loss: 0.4092\n",
      "Epoch 3/20\n",
      "242/242 [==============================] - 0s 2ms/step - loss: 0.4011 - val_loss: 0.3939\n",
      "Epoch 4/20\n",
      "242/242 [==============================] - 0s 2ms/step - loss: 0.3798 - val_loss: 0.3788\n",
      "Epoch 5/20\n",
      "242/242 [==============================] - 1s 2ms/step - loss: 0.3679 - val_loss: 0.3750\n",
      "Epoch 6/20\n",
      "242/242 [==============================] - 0s 2ms/step - loss: 0.3625 - val_loss: 0.3769\n",
      "Epoch 7/20\n",
      "242/242 [==============================] - 1s 2ms/step - loss: 0.3558 - val_loss: 0.3751\n",
      "Epoch 8/20\n",
      "242/242 [==============================] - 0s 2ms/step - loss: 0.3508 - val_loss: 0.3758\n",
      "Epoch 9/20\n",
      "242/242 [==============================] - 0s 2ms/step - loss: 0.3457 - val_loss: 0.3724\n",
      "Epoch 10/20\n",
      "242/242 [==============================] - 0s 2ms/step - loss: 0.3403 - val_loss: 0.3714\n",
      "Epoch 11/20\n",
      "242/242 [==============================] - 0s 2ms/step - loss: 0.3385 - val_loss: 0.3907\n",
      "Epoch 12/20\n",
      "242/242 [==============================] - 0s 2ms/step - loss: 0.3330 - val_loss: 0.3781\n",
      "Epoch 13/20\n",
      "242/242 [==============================] - 0s 2ms/step - loss: 0.3302 - val_loss: 0.3634\n",
      "Epoch 14/20\n",
      "242/242 [==============================] - 0s 2ms/step - loss: 0.3281 - val_loss: 0.3740\n",
      "Epoch 15/20\n",
      "242/242 [==============================] - 0s 2ms/step - loss: 0.3238 - val_loss: 0.3735\n",
      "Epoch 16/20\n",
      "242/242 [==============================] - 0s 2ms/step - loss: 0.3223 - val_loss: 0.3724\n",
      "Epoch 17/20\n",
      "242/242 [==============================] - 0s 2ms/step - loss: 0.3189 - val_loss: 0.3908\n",
      "Epoch 18/20\n",
      "242/242 [==============================] - 0s 2ms/step - loss: 0.3163 - val_loss: 0.3692\n",
      "Epoch 19/20\n",
      "242/242 [==============================] - 0s 2ms/step - loss: 0.3121 - val_loss: 0.3882\n",
      "Epoch 20/20\n",
      "242/242 [==============================] - 0s 2ms/step - loss: 0.3120 - val_loss: 0.3696\n",
      "121/121 [==============================] - 0s 1ms/step - loss: 0.3421\n"
     ]
    },
    {
     "name": "stderr",
     "output_type": "stream",
     "text": [
      "WARNING:absl:`lr` is deprecated in Keras optimizer, please use `learning_rate` or use the legacy optimizer, e.g.,tf.keras.optimizers.legacy.SGD.\n"
     ]
    },
    {
     "name": "stdout",
     "output_type": "stream",
     "text": [
      "Epoch 1/20\n",
      "242/242 [==============================] - 1s 2ms/step - loss: 6.1870 - val_loss: 22.9645\n",
      "Epoch 2/20\n",
      "242/242 [==============================] - 1s 2ms/step - loss: 83.7185 - val_loss: 729.2960\n",
      "Epoch 3/20\n",
      "242/242 [==============================] - 1s 3ms/step - loss: 4931.1978 - val_loss: 22844.9141\n",
      "Epoch 4/20\n",
      "242/242 [==============================] - 1s 2ms/step - loss: 139310.3906 - val_loss: 726654.5000\n",
      "Epoch 5/20\n",
      "242/242 [==============================] - 0s 2ms/step - loss: 2428715.5000 - val_loss: 22167318.0000\n",
      "Epoch 6/20\n",
      "242/242 [==============================] - 0s 2ms/step - loss: 132548392.0000 - val_loss: 720288896.0000\n",
      "Epoch 7/20\n",
      "242/242 [==============================] - 0s 2ms/step - loss: 2718981120.0000 - val_loss: 22043912192.0000\n",
      "Epoch 8/20\n",
      "242/242 [==============================] - 0s 2ms/step - loss: 87035412480.0000 - val_loss: 683128651776.0000\n",
      "Epoch 9/20\n",
      "242/242 [==============================] - 0s 2ms/step - loss: 2375182974976.0000 - val_loss: 21282890448896.0000\n",
      "Epoch 10/20\n",
      "242/242 [==============================] - 0s 2ms/step - loss: 136345003491328.0000 - val_loss: 663439437463552.0000\n",
      "Epoch 11/20\n",
      "242/242 [==============================] - 0s 2ms/step - loss: 2294785725431808.0000 - val_loss: 20588630108012544.0000\n",
      "121/121 [==============================] - 0s 1ms/step - loss: 1074818988376064.0000\n"
     ]
    },
    {
     "name": "stderr",
     "output_type": "stream",
     "text": [
      "WARNING:absl:`lr` is deprecated in Keras optimizer, please use `learning_rate` or use the legacy optimizer, e.g.,tf.keras.optimizers.legacy.SGD.\n"
     ]
    },
    {
     "name": "stdout",
     "output_type": "stream",
     "text": [
      "Epoch 1/20\n",
      "242/242 [==============================] - 1s 2ms/step - loss: 1.1742 - val_loss: 1.0960\n",
      "Epoch 2/20\n",
      "242/242 [==============================] - 1s 3ms/step - loss: 0.5278 - val_loss: 1.1052\n",
      "Epoch 3/20\n",
      "242/242 [==============================] - 0s 2ms/step - loss: 0.5213 - val_loss: 1.1071\n",
      "Epoch 4/20\n",
      "242/242 [==============================] - 0s 2ms/step - loss: 0.5172 - val_loss: 1.1100\n",
      "Epoch 5/20\n",
      "242/242 [==============================] - 1s 2ms/step - loss: 0.5165 - val_loss: 1.1143\n",
      "Epoch 6/20\n",
      "242/242 [==============================] - 1s 3ms/step - loss: 0.5164 - val_loss: 1.1242\n",
      "Epoch 7/20\n",
      "242/242 [==============================] - 0s 2ms/step - loss: 0.5173 - val_loss: 1.1135\n",
      "Epoch 8/20\n",
      "242/242 [==============================] - 0s 2ms/step - loss: 0.5183 - val_loss: 1.1101\n",
      "Epoch 9/20\n",
      "242/242 [==============================] - 0s 2ms/step - loss: 0.5152 - val_loss: 1.1099\n",
      "Epoch 10/20\n",
      "242/242 [==============================] - 0s 2ms/step - loss: 0.5171 - val_loss: 1.1173\n",
      "Epoch 11/20\n",
      "242/242 [==============================] - 0s 2ms/step - loss: 0.5184 - val_loss: 1.1113\n",
      "121/121 [==============================] - 0s 1ms/step - loss: 2.4398\n"
     ]
    },
    {
     "name": "stderr",
     "output_type": "stream",
     "text": [
      "WARNING:absl:`lr` is deprecated in Keras optimizer, please use `learning_rate` or use the legacy optimizer, e.g.,tf.keras.optimizers.legacy.SGD.\n"
     ]
    },
    {
     "name": "stdout",
     "output_type": "stream",
     "text": [
      "Epoch 1/20\n",
      "242/242 [==============================] - 1s 2ms/step - loss: 1.8841 - val_loss: 3.5395\n",
      "Epoch 2/20\n",
      "242/242 [==============================] - 0s 2ms/step - loss: 19.7769 - val_loss: 90.9850\n",
      "Epoch 3/20\n",
      "242/242 [==============================] - 1s 2ms/step - loss: 316.3042 - val_loss: 2346.8228\n",
      "Epoch 4/20\n",
      "242/242 [==============================] - 1s 2ms/step - loss: 6672.0229 - val_loss: 60206.6484\n",
      "Epoch 5/20\n",
      "242/242 [==============================] - 0s 2ms/step - loss: 229339.6719 - val_loss: 1534881.0000\n",
      "Epoch 6/20\n",
      "242/242 [==============================] - 0s 2ms/step - loss: 4401983.5000 - val_loss: 39493348.0000\n",
      "Epoch 7/20\n",
      "242/242 [==============================] - 0s 2ms/step - loss: 128743352.0000 - val_loss: 1004956160.0000\n",
      "Epoch 8/20\n",
      "242/242 [==============================] - 1s 2ms/step - loss: 5758376448.0000 - val_loss: 25722351616.0000\n",
      "Epoch 9/20\n",
      "242/242 [==============================] - 0s 2ms/step - loss: 109972488192.0000 - val_loss: 652026052608.0000\n",
      "Epoch 10/20\n",
      "242/242 [==============================] - 0s 2ms/step - loss: 2190464122880.0000 - val_loss: 16624488808448.0000\n",
      "Epoch 11/20\n",
      "242/242 [==============================] - 1s 3ms/step - loss: 49021234184192.0000 - val_loss: 425121600765952.0000\n",
      "121/121 [==============================] - 0s 2ms/step - loss: 4987139129344.0000\n"
     ]
    },
    {
     "name": "stderr",
     "output_type": "stream",
     "text": [
      "WARNING:absl:`lr` is deprecated in Keras optimizer, please use `learning_rate` or use the legacy optimizer, e.g.,tf.keras.optimizers.legacy.SGD.\n"
     ]
    },
    {
     "name": "stdout",
     "output_type": "stream",
     "text": [
      "Epoch 1/20\n",
      "242/242 [==============================] - 2s 5ms/step - loss: 0.9179 - val_loss: 0.6316\n",
      "Epoch 2/20\n",
      "242/242 [==============================] - 0s 2ms/step - loss: 0.6300 - val_loss: 0.4064\n",
      "Epoch 3/20\n",
      "242/242 [==============================] - 1s 2ms/step - loss: 0.4040 - val_loss: 0.3807\n",
      "Epoch 4/20\n",
      "242/242 [==============================] - 0s 2ms/step - loss: 0.3829 - val_loss: 0.3710\n",
      "Epoch 5/20\n",
      "242/242 [==============================] - 0s 2ms/step - loss: 0.3679 - val_loss: 0.3645\n",
      "Epoch 6/20\n",
      "242/242 [==============================] - 0s 2ms/step - loss: 0.3556 - val_loss: 0.3727\n",
      "Epoch 7/20\n",
      "242/242 [==============================] - 0s 2ms/step - loss: 0.3554 - val_loss: 0.3664\n",
      "Epoch 8/20\n",
      "242/242 [==============================] - 0s 2ms/step - loss: 0.3407 - val_loss: 0.3788\n",
      "Epoch 9/20\n",
      "242/242 [==============================] - 0s 2ms/step - loss: 0.3375 - val_loss: 0.3591\n",
      "Epoch 10/20\n",
      "242/242 [==============================] - 0s 2ms/step - loss: 0.3302 - val_loss: 0.3626\n",
      "Epoch 11/20\n",
      "242/242 [==============================] - 0s 2ms/step - loss: 0.3237 - val_loss: 0.3604\n",
      "Epoch 12/20\n",
      "242/242 [==============================] - 0s 2ms/step - loss: 0.3200 - val_loss: 0.3964\n",
      "Epoch 13/20\n",
      "242/242 [==============================] - 1s 2ms/step - loss: 0.3134 - val_loss: 0.3775\n",
      "Epoch 14/20\n",
      "242/242 [==============================] - 1s 2ms/step - loss: 0.3096 - val_loss: 0.3506\n",
      "Epoch 15/20\n",
      "242/242 [==============================] - 1s 2ms/step - loss: 0.3059 - val_loss: 0.3900\n",
      "Epoch 16/20\n",
      "242/242 [==============================] - 1s 2ms/step - loss: 0.3006 - val_loss: 0.3589\n",
      "Epoch 17/20\n",
      "242/242 [==============================] - 1s 2ms/step - loss: 0.2998 - val_loss: 0.3906\n",
      "Epoch 18/20\n",
      "242/242 [==============================] - 0s 2ms/step - loss: 0.2953 - val_loss: 0.3637\n",
      "Epoch 19/20\n",
      "242/242 [==============================] - 0s 2ms/step - loss: 0.2957 - val_loss: 0.3556\n",
      "Epoch 20/20\n",
      "242/242 [==============================] - 0s 2ms/step - loss: 0.2909 - val_loss: 0.3483\n",
      "121/121 [==============================] - 0s 1ms/step - loss: 0.3364\n"
     ]
    },
    {
     "name": "stderr",
     "output_type": "stream",
     "text": [
      "WARNING:absl:`lr` is deprecated in Keras optimizer, please use `learning_rate` or use the legacy optimizer, e.g.,tf.keras.optimizers.legacy.SGD.\n"
     ]
    },
    {
     "name": "stdout",
     "output_type": "stream",
     "text": [
      "Epoch 1/20\n",
      "242/242 [==============================] - 1s 3ms/step - loss: 0.8308 - val_loss: 0.4895\n",
      "Epoch 2/20\n",
      "242/242 [==============================] - 0s 2ms/step - loss: 0.4934 - val_loss: 0.4251\n",
      "Epoch 3/20\n",
      "242/242 [==============================] - 0s 2ms/step - loss: 0.4411 - val_loss: 0.4083\n",
      "Epoch 4/20\n",
      "242/242 [==============================] - 1s 2ms/step - loss: 0.4112 - val_loss: 0.3934\n",
      "Epoch 5/20\n",
      "242/242 [==============================] - 0s 2ms/step - loss: 0.3921 - val_loss: 0.3859\n",
      "Epoch 6/20\n",
      "242/242 [==============================] - 0s 2ms/step - loss: 0.3798 - val_loss: 0.3876\n",
      "Epoch 7/20\n",
      "242/242 [==============================] - 0s 2ms/step - loss: 0.3657 - val_loss: 0.3953\n",
      "Epoch 8/20\n",
      "242/242 [==============================] - 0s 2ms/step - loss: 0.3561 - val_loss: 0.4028\n",
      "Epoch 9/20\n",
      "242/242 [==============================] - 0s 2ms/step - loss: 0.3500 - val_loss: 0.4662\n",
      "Epoch 10/20\n",
      "242/242 [==============================] - 0s 2ms/step - loss: 0.3451 - val_loss: 0.3617\n",
      "Epoch 11/20\n",
      "242/242 [==============================] - 1s 2ms/step - loss: 0.3378 - val_loss: 0.3540\n",
      "Epoch 12/20\n",
      "242/242 [==============================] - 1s 2ms/step - loss: 0.3320 - val_loss: 0.3917\n",
      "Epoch 13/20\n",
      "242/242 [==============================] - 0s 2ms/step - loss: 0.3271 - val_loss: 0.3846\n",
      "Epoch 14/20\n",
      "242/242 [==============================] - 1s 2ms/step - loss: 0.3213 - val_loss: 0.4024\n",
      "Epoch 15/20\n",
      "242/242 [==============================] - 0s 2ms/step - loss: 0.3176 - val_loss: 0.3742\n",
      "Epoch 16/20\n",
      "242/242 [==============================] - 0s 2ms/step - loss: 0.3139 - val_loss: 0.3605\n",
      "Epoch 17/20\n",
      "242/242 [==============================] - 0s 2ms/step - loss: 0.3106 - val_loss: 0.3817\n",
      "Epoch 18/20\n",
      "242/242 [==============================] - 0s 2ms/step - loss: 0.3069 - val_loss: 0.4172\n",
      "Epoch 19/20\n",
      "242/242 [==============================] - 0s 2ms/step - loss: 0.3031 - val_loss: 0.4215\n",
      "Epoch 20/20\n",
      "242/242 [==============================] - 0s 2ms/step - loss: 0.3028 - val_loss: 0.4139\n",
      "121/121 [==============================] - 0s 1ms/step - loss: 0.3330\n"
     ]
    },
    {
     "name": "stderr",
     "output_type": "stream",
     "text": [
      "WARNING:absl:`lr` is deprecated in Keras optimizer, please use `learning_rate` or use the legacy optimizer, e.g.,tf.keras.optimizers.legacy.SGD.\n"
     ]
    },
    {
     "name": "stdout",
     "output_type": "stream",
     "text": [
      "Epoch 1/20\n",
      "242/242 [==============================] - 1s 3ms/step - loss: 0.8789 - val_loss: 0.5667\n",
      "Epoch 2/20\n",
      "242/242 [==============================] - 0s 2ms/step - loss: 0.5240 - val_loss: 0.4361\n",
      "Epoch 3/20\n",
      "242/242 [==============================] - 0s 2ms/step - loss: 0.4263 - val_loss: 0.4025\n",
      "Epoch 4/20\n",
      "242/242 [==============================] - 0s 2ms/step - loss: 0.3974 - val_loss: 0.3813\n",
      "Epoch 5/20\n",
      "242/242 [==============================] - 0s 2ms/step - loss: 0.3804 - val_loss: 0.3755\n",
      "Epoch 6/20\n",
      "242/242 [==============================] - 0s 2ms/step - loss: 0.3679 - val_loss: 0.3758\n",
      "Epoch 7/20\n",
      "242/242 [==============================] - 0s 2ms/step - loss: 0.3572 - val_loss: 0.3751\n",
      "Epoch 8/20\n",
      "242/242 [==============================] - 0s 2ms/step - loss: 0.3508 - val_loss: 0.3831\n",
      "Epoch 9/20\n",
      "242/242 [==============================] - 0s 2ms/step - loss: 0.3448 - val_loss: 0.3626\n",
      "Epoch 10/20\n",
      "242/242 [==============================] - 0s 2ms/step - loss: 0.3413 - val_loss: 0.3637\n",
      "Epoch 11/20\n",
      "242/242 [==============================] - 0s 2ms/step - loss: 0.3351 - val_loss: 0.3929\n",
      "Epoch 12/20\n",
      "242/242 [==============================] - 0s 2ms/step - loss: 0.3301 - val_loss: 0.3577\n",
      "Epoch 13/20\n",
      "242/242 [==============================] - 0s 2ms/step - loss: 0.3237 - val_loss: 0.3655\n",
      "Epoch 14/20\n",
      "242/242 [==============================] - 0s 2ms/step - loss: 0.3209 - val_loss: 0.3603\n",
      "Epoch 15/20\n",
      "242/242 [==============================] - 0s 2ms/step - loss: 0.3166 - val_loss: 0.3650\n",
      "Epoch 16/20\n",
      "242/242 [==============================] - 0s 2ms/step - loss: 0.3172 - val_loss: 0.3626\n",
      "Epoch 17/20\n",
      "242/242 [==============================] - 0s 2ms/step - loss: 0.3129 - val_loss: 0.3530\n",
      "Epoch 18/20\n",
      "242/242 [==============================] - 0s 2ms/step - loss: 0.3061 - val_loss: 0.4040\n",
      "Epoch 19/20\n",
      "242/242 [==============================] - 0s 2ms/step - loss: 0.3020 - val_loss: 0.3628\n",
      "Epoch 20/20\n",
      "242/242 [==============================] - 1s 2ms/step - loss: 0.3025 - val_loss: 0.3620\n",
      "121/121 [==============================] - 0s 1ms/step - loss: 0.3314\n"
     ]
    },
    {
     "name": "stderr",
     "output_type": "stream",
     "text": [
      "WARNING:absl:`lr` is deprecated in Keras optimizer, please use `learning_rate` or use the legacy optimizer, e.g.,tf.keras.optimizers.legacy.SGD.\n"
     ]
    },
    {
     "name": "stdout",
     "output_type": "stream",
     "text": [
      "Epoch 1/20\n",
      "242/242 [==============================] - 1s 3ms/step - loss: 0.8433 - val_loss: 0.4784\n",
      "Epoch 2/20\n",
      "242/242 [==============================] - 0s 2ms/step - loss: 0.4414 - val_loss: 0.4126\n",
      "Epoch 3/20\n",
      "242/242 [==============================] - 0s 2ms/step - loss: 0.3991 - val_loss: 0.3811\n",
      "Epoch 4/20\n",
      "242/242 [==============================] - 0s 2ms/step - loss: 0.3799 - val_loss: 0.3929\n",
      "Epoch 5/20\n",
      "242/242 [==============================] - 0s 2ms/step - loss: 0.3637 - val_loss: 0.4056\n",
      "Epoch 6/20\n",
      "242/242 [==============================] - 0s 2ms/step - loss: 0.3588 - val_loss: 0.3707\n",
      "Epoch 7/20\n",
      "242/242 [==============================] - 0s 2ms/step - loss: 0.3488 - val_loss: 0.3656\n",
      "Epoch 8/20\n",
      "242/242 [==============================] - 0s 2ms/step - loss: 0.3409 - val_loss: 0.3880\n",
      "Epoch 9/20\n",
      "242/242 [==============================] - 0s 2ms/step - loss: 0.3339 - val_loss: 0.3934\n",
      "Epoch 10/20\n",
      "242/242 [==============================] - 0s 2ms/step - loss: 0.3274 - val_loss: 0.4000\n",
      "Epoch 11/20\n",
      "242/242 [==============================] - 0s 2ms/step - loss: 0.3213 - val_loss: 0.3783\n",
      "Epoch 12/20\n",
      "242/242 [==============================] - 0s 2ms/step - loss: 0.3181 - val_loss: 0.4075\n",
      "Epoch 13/20\n",
      "242/242 [==============================] - 0s 2ms/step - loss: 0.3134 - val_loss: 0.3779\n",
      "Epoch 14/20\n",
      "242/242 [==============================] - 0s 2ms/step - loss: 0.3089 - val_loss: 0.3733\n",
      "Epoch 15/20\n",
      "242/242 [==============================] - 0s 2ms/step - loss: 0.3034 - val_loss: 0.3818\n",
      "Epoch 16/20\n",
      "242/242 [==============================] - 1s 2ms/step - loss: 0.3023 - val_loss: 0.3837\n",
      "Epoch 17/20\n",
      "242/242 [==============================] - 1s 2ms/step - loss: 0.2989 - val_loss: 0.3807\n",
      "121/121 [==============================] - 0s 1ms/step - loss: 0.3176\n"
     ]
    },
    {
     "name": "stderr",
     "output_type": "stream",
     "text": [
      "WARNING:absl:`lr` is deprecated in Keras optimizer, please use `learning_rate` or use the legacy optimizer, e.g.,tf.keras.optimizers.legacy.SGD.\n"
     ]
    },
    {
     "name": "stdout",
     "output_type": "stream",
     "text": [
      "Epoch 1/20\n",
      "242/242 [==============================] - 1s 3ms/step - loss: 0.7688 - val_loss: 0.5181\n",
      "Epoch 2/20\n",
      "242/242 [==============================] - 0s 2ms/step - loss: 0.4762 - val_loss: 0.4112\n",
      "Epoch 3/20\n",
      "242/242 [==============================] - 0s 2ms/step - loss: 0.4233 - val_loss: 0.3869\n",
      "Epoch 4/20\n",
      "242/242 [==============================] - 1s 2ms/step - loss: 0.4017 - val_loss: 0.3842\n",
      "Epoch 5/20\n",
      "242/242 [==============================] - 0s 2ms/step - loss: 0.3853 - val_loss: 0.3693\n",
      "Epoch 6/20\n",
      "242/242 [==============================] - 0s 2ms/step - loss: 0.3763 - val_loss: 0.3835\n",
      "Epoch 7/20\n",
      "242/242 [==============================] - 0s 2ms/step - loss: 0.3661 - val_loss: 0.3877\n",
      "Epoch 8/20\n",
      "242/242 [==============================] - 1s 2ms/step - loss: 0.3556 - val_loss: 0.3716\n",
      "Epoch 9/20\n",
      "242/242 [==============================] - 0s 2ms/step - loss: 0.3500 - val_loss: 0.4280\n",
      "Epoch 10/20\n",
      "242/242 [==============================] - 0s 2ms/step - loss: 0.3450 - val_loss: 0.3896\n",
      "Epoch 11/20\n",
      "242/242 [==============================] - 0s 2ms/step - loss: 0.3373 - val_loss: 0.4135\n",
      "Epoch 12/20\n",
      "242/242 [==============================] - 0s 2ms/step - loss: 0.3345 - val_loss: 0.3939\n",
      "Epoch 13/20\n",
      "242/242 [==============================] - 1s 2ms/step - loss: 0.3291 - val_loss: 0.4487\n",
      "Epoch 14/20\n",
      "242/242 [==============================] - 1s 2ms/step - loss: 0.3245 - val_loss: 0.3910\n",
      "Epoch 15/20\n",
      "242/242 [==============================] - 1s 2ms/step - loss: 0.3202 - val_loss: 0.4715\n",
      "121/121 [==============================] - 0s 1ms/step - loss: 0.4615\n"
     ]
    },
    {
     "name": "stderr",
     "output_type": "stream",
     "text": [
      "WARNING:absl:`lr` is deprecated in Keras optimizer, please use `learning_rate` or use the legacy optimizer, e.g.,tf.keras.optimizers.legacy.SGD.\n"
     ]
    },
    {
     "name": "stdout",
     "output_type": "stream",
     "text": [
      "Epoch 1/20\n",
      "242/242 [==============================] - 1s 3ms/step - loss: 0.7517 - val_loss: 0.4935\n",
      "Epoch 2/20\n",
      "242/242 [==============================] - 0s 2ms/step - loss: 0.4540 - val_loss: 0.4104\n",
      "Epoch 3/20\n",
      "242/242 [==============================] - 0s 2ms/step - loss: 0.4060 - val_loss: 0.3907\n",
      "Epoch 4/20\n",
      "242/242 [==============================] - 0s 2ms/step - loss: 0.3839 - val_loss: 0.3781\n",
      "Epoch 5/20\n",
      "242/242 [==============================] - 0s 2ms/step - loss: 0.3683 - val_loss: 0.3710\n",
      "Epoch 6/20\n",
      "242/242 [==============================] - 0s 2ms/step - loss: 0.3594 - val_loss: 0.3669\n",
      "Epoch 7/20\n",
      "242/242 [==============================] - 0s 2ms/step - loss: 0.3482 - val_loss: 0.3628\n",
      "Epoch 8/20\n",
      "242/242 [==============================] - 0s 2ms/step - loss: 0.3448 - val_loss: 0.3704\n",
      "Epoch 9/20\n",
      "242/242 [==============================] - 1s 2ms/step - loss: 0.3878 - val_loss: 0.3587\n",
      "Epoch 10/20\n",
      "242/242 [==============================] - 1s 2ms/step - loss: 0.3366 - val_loss: 0.3540\n",
      "Epoch 11/20\n",
      "242/242 [==============================] - 0s 2ms/step - loss: 0.3268 - val_loss: 0.3618\n",
      "Epoch 12/20\n",
      "242/242 [==============================] - 0s 2ms/step - loss: 0.3234 - val_loss: 0.3693\n",
      "Epoch 13/20\n",
      "242/242 [==============================] - 0s 2ms/step - loss: 0.3197 - val_loss: 0.3655\n",
      "Epoch 14/20\n",
      "242/242 [==============================] - 0s 2ms/step - loss: 0.3147 - val_loss: 0.3658\n",
      "Epoch 15/20\n",
      "242/242 [==============================] - 0s 2ms/step - loss: 0.3088 - val_loss: 0.3554\n",
      "Epoch 16/20\n",
      "242/242 [==============================] - 1s 2ms/step - loss: 0.3068 - val_loss: 0.3751\n",
      "Epoch 17/20\n",
      "242/242 [==============================] - 1s 2ms/step - loss: 0.3020 - val_loss: 0.3697\n",
      "Epoch 18/20\n",
      "242/242 [==============================] - 0s 2ms/step - loss: 0.2975 - val_loss: 0.3575\n",
      "Epoch 19/20\n",
      "242/242 [==============================] - 0s 2ms/step - loss: 0.2968 - val_loss: 0.4930\n",
      "Epoch 20/20\n",
      "242/242 [==============================] - 0s 2ms/step - loss: 0.2931 - val_loss: 0.3660\n",
      "121/121 [==============================] - 0s 1ms/step - loss: 0.3230\n"
     ]
    },
    {
     "name": "stderr",
     "output_type": "stream",
     "text": [
      "WARNING:absl:`lr` is deprecated in Keras optimizer, please use `learning_rate` or use the legacy optimizer, e.g.,tf.keras.optimizers.legacy.SGD.\n"
     ]
    },
    {
     "name": "stdout",
     "output_type": "stream",
     "text": [
      "Epoch 1/20\n",
      "242/242 [==============================] - 1s 2ms/step - loss: 0.8431 - val_loss: 0.5343\n",
      "Epoch 2/20\n",
      "242/242 [==============================] - 0s 2ms/step - loss: 0.4837 - val_loss: 0.4257\n",
      "Epoch 3/20\n",
      "242/242 [==============================] - 0s 2ms/step - loss: 0.4145 - val_loss: 0.3934\n",
      "Epoch 4/20\n",
      "242/242 [==============================] - 0s 2ms/step - loss: 0.3879 - val_loss: 0.3824\n",
      "Epoch 5/20\n",
      "242/242 [==============================] - 0s 2ms/step - loss: 0.3732 - val_loss: 0.3715\n",
      "Epoch 6/20\n",
      "242/242 [==============================] - 0s 2ms/step - loss: 0.3592 - val_loss: 0.3754\n",
      "Epoch 7/20\n",
      "242/242 [==============================] - 0s 2ms/step - loss: 0.3525 - val_loss: 0.3598\n",
      "Epoch 8/20\n",
      "242/242 [==============================] - 0s 2ms/step - loss: 0.3447 - val_loss: 0.3790\n",
      "Epoch 9/20\n",
      "242/242 [==============================] - 0s 2ms/step - loss: 0.3393 - val_loss: 0.3835\n",
      "Epoch 10/20\n",
      "242/242 [==============================] - 0s 2ms/step - loss: 0.3296 - val_loss: 0.3677\n",
      "Epoch 11/20\n",
      "242/242 [==============================] - 0s 2ms/step - loss: 0.3249 - val_loss: 0.3691\n",
      "Epoch 12/20\n",
      "242/242 [==============================] - 0s 2ms/step - loss: 0.3229 - val_loss: 0.3799\n",
      "Epoch 13/20\n",
      "242/242 [==============================] - 1s 2ms/step - loss: 0.3191 - val_loss: 0.3701\n",
      "Epoch 14/20\n",
      "242/242 [==============================] - 0s 2ms/step - loss: 0.3124 - val_loss: 0.3634\n",
      "Epoch 15/20\n",
      "242/242 [==============================] - 1s 2ms/step - loss: 0.3114 - val_loss: 0.3781\n",
      "Epoch 16/20\n",
      "242/242 [==============================] - 1s 4ms/step - loss: 0.3082 - val_loss: 0.4127\n",
      "Epoch 17/20\n",
      "242/242 [==============================] - 0s 2ms/step - loss: 0.3033 - val_loss: 0.4120\n",
      "121/121 [==============================] - 0s 1ms/step - loss: 0.3274\n"
     ]
    },
    {
     "name": "stderr",
     "output_type": "stream",
     "text": [
      "WARNING:absl:`lr` is deprecated in Keras optimizer, please use `learning_rate` or use the legacy optimizer, e.g.,tf.keras.optimizers.legacy.SGD.\n"
     ]
    },
    {
     "name": "stdout",
     "output_type": "stream",
     "text": [
      "Epoch 1/20\n",
      "242/242 [==============================] - 1s 2ms/step - loss: 0.7969 - val_loss: 0.4699\n",
      "Epoch 2/20\n",
      "242/242 [==============================] - 0s 2ms/step - loss: 0.4680 - val_loss: 0.4301\n",
      "Epoch 3/20\n",
      "242/242 [==============================] - 0s 2ms/step - loss: 0.4259 - val_loss: 0.3942\n",
      "Epoch 4/20\n",
      "242/242 [==============================] - 0s 2ms/step - loss: 0.3998 - val_loss: 0.3848\n",
      "Epoch 5/20\n",
      "242/242 [==============================] - 0s 2ms/step - loss: 0.3833 - val_loss: 0.3958\n",
      "Epoch 6/20\n",
      "242/242 [==============================] - 0s 2ms/step - loss: 0.3731 - val_loss: 0.3772\n",
      "Epoch 7/20\n",
      "242/242 [==============================] - 0s 2ms/step - loss: 0.3605 - val_loss: 0.3691\n",
      "Epoch 8/20\n",
      "242/242 [==============================] - 0s 2ms/step - loss: 0.3516 - val_loss: 0.3992\n",
      "Epoch 9/20\n",
      "242/242 [==============================] - 0s 2ms/step - loss: 0.3462 - val_loss: 0.3952\n",
      "Epoch 10/20\n",
      "242/242 [==============================] - 0s 2ms/step - loss: 0.3424 - val_loss: 0.3822\n",
      "Epoch 11/20\n",
      "242/242 [==============================] - 0s 2ms/step - loss: 0.3358 - val_loss: 0.3826\n",
      "Epoch 12/20\n",
      "242/242 [==============================] - 0s 2ms/step - loss: 0.3310 - val_loss: 0.3824\n",
      "Epoch 13/20\n",
      "242/242 [==============================] - 0s 2ms/step - loss: 0.3290 - val_loss: 0.3963\n",
      "Epoch 14/20\n",
      "242/242 [==============================] - 0s 2ms/step - loss: 0.3227 - val_loss: 0.4448\n",
      "Epoch 15/20\n",
      "242/242 [==============================] - 0s 2ms/step - loss: 0.3198 - val_loss: 0.3923\n",
      "Epoch 16/20\n",
      "242/242 [==============================] - 0s 2ms/step - loss: 0.3160 - val_loss: 0.4274\n",
      "Epoch 17/20\n",
      "242/242 [==============================] - 0s 2ms/step - loss: 0.3115 - val_loss: 0.4637\n",
      "121/121 [==============================] - 0s 966us/step - loss: 0.4119\n"
     ]
    },
    {
     "name": "stderr",
     "output_type": "stream",
     "text": [
      "WARNING:absl:`lr` is deprecated in Keras optimizer, please use `learning_rate` or use the legacy optimizer, e.g.,tf.keras.optimizers.legacy.SGD.\n"
     ]
    },
    {
     "name": "stdout",
     "output_type": "stream",
     "text": [
      "Epoch 1/20\n",
      "242/242 [==============================] - 1s 2ms/step - loss: 0.8884 - val_loss: 0.5384\n",
      "Epoch 2/20\n",
      "242/242 [==============================] - 0s 2ms/step - loss: 0.4706 - val_loss: 0.4171\n",
      "Epoch 3/20\n",
      "242/242 [==============================] - 1s 2ms/step - loss: 0.4015 - val_loss: 0.3889\n",
      "Epoch 4/20\n",
      "242/242 [==============================] - 0s 2ms/step - loss: 0.3845 - val_loss: 0.3777\n",
      "Epoch 5/20\n",
      "242/242 [==============================] - 0s 2ms/step - loss: 0.3727 - val_loss: 0.3780\n",
      "Epoch 6/20\n",
      "242/242 [==============================] - 0s 2ms/step - loss: 0.3625 - val_loss: 0.3937\n",
      "Epoch 7/20\n",
      "242/242 [==============================] - 0s 2ms/step - loss: 0.3571 - val_loss: 0.3772\n",
      "Epoch 8/20\n",
      "242/242 [==============================] - 0s 2ms/step - loss: 0.3471 - val_loss: 0.3668\n",
      "Epoch 9/20\n",
      "242/242 [==============================] - 0s 2ms/step - loss: 0.3411 - val_loss: 0.4153\n",
      "Epoch 10/20\n",
      "242/242 [==============================] - 0s 2ms/step - loss: 0.3362 - val_loss: 0.3683\n",
      "Epoch 11/20\n",
      "242/242 [==============================] - 0s 2ms/step - loss: 0.3312 - val_loss: 0.3611\n",
      "Epoch 12/20\n",
      "242/242 [==============================] - 0s 2ms/step - loss: 0.3274 - val_loss: 0.3662\n",
      "Epoch 13/20\n",
      "242/242 [==============================] - 0s 2ms/step - loss: 0.3203 - val_loss: 0.3602\n",
      "Epoch 14/20\n",
      "242/242 [==============================] - 0s 2ms/step - loss: 0.3204 - val_loss: 0.3540\n",
      "Epoch 15/20\n",
      "242/242 [==============================] - 0s 2ms/step - loss: 0.3142 - val_loss: 0.3825\n",
      "Epoch 16/20\n",
      "242/242 [==============================] - 0s 2ms/step - loss: 0.3134 - val_loss: 0.3533\n",
      "Epoch 17/20\n",
      "242/242 [==============================] - 0s 2ms/step - loss: 0.3082 - val_loss: 0.3868\n",
      "Epoch 18/20\n",
      "242/242 [==============================] - 0s 2ms/step - loss: 0.3030 - val_loss: 0.3650\n",
      "Epoch 19/20\n",
      "242/242 [==============================] - 0s 2ms/step - loss: 0.2996 - val_loss: 0.4179\n",
      "Epoch 20/20\n",
      "242/242 [==============================] - 0s 2ms/step - loss: 0.2965 - val_loss: 0.3676\n",
      "121/121 [==============================] - 0s 966us/step - loss: 0.3187\n"
     ]
    },
    {
     "name": "stderr",
     "output_type": "stream",
     "text": [
      "WARNING:absl:`lr` is deprecated in Keras optimizer, please use `learning_rate` or use the legacy optimizer, e.g.,tf.keras.optimizers.legacy.SGD.\n"
     ]
    },
    {
     "name": "stdout",
     "output_type": "stream",
     "text": [
      "Epoch 1/20\n",
      "242/242 [==============================] - 1s 2ms/step - loss: 3.1569 - val_loss: 1.2404\n",
      "Epoch 2/20\n",
      "242/242 [==============================] - 1s 2ms/step - loss: 0.4801 - val_loss: 0.7811\n",
      "Epoch 3/20\n",
      "242/242 [==============================] - 0s 2ms/step - loss: 0.4152 - val_loss: 0.7232\n",
      "Epoch 4/20\n",
      "242/242 [==============================] - 0s 2ms/step - loss: 0.3982 - val_loss: 0.7474\n",
      "Epoch 5/20\n",
      "242/242 [==============================] - 1s 2ms/step - loss: 0.3846 - val_loss: 0.6927\n",
      "Epoch 6/20\n",
      "242/242 [==============================] - 0s 2ms/step - loss: 0.3671 - val_loss: 0.7272\n",
      "Epoch 7/20\n",
      "242/242 [==============================] - 0s 2ms/step - loss: 0.3629 - val_loss: 0.7351\n",
      "Epoch 8/20\n",
      "242/242 [==============================] - 0s 2ms/step - loss: 0.3578 - val_loss: 0.6718\n",
      "Epoch 9/20\n",
      "242/242 [==============================] - 0s 2ms/step - loss: 0.3534 - val_loss: 0.6425\n",
      "Epoch 10/20\n",
      "242/242 [==============================] - 0s 2ms/step - loss: 0.3503 - val_loss: 0.6804\n",
      "Epoch 11/20\n",
      "242/242 [==============================] - 0s 2ms/step - loss: 0.3492 - val_loss: 0.6377\n",
      "Epoch 12/20\n",
      "242/242 [==============================] - 0s 2ms/step - loss: 0.3463 - val_loss: 0.6550\n",
      "Epoch 13/20\n",
      "242/242 [==============================] - 0s 2ms/step - loss: 0.3475 - val_loss: 0.6588\n",
      "Epoch 14/20\n",
      "242/242 [==============================] - 0s 2ms/step - loss: 0.3411 - val_loss: 0.6859\n",
      "Epoch 15/20\n",
      "242/242 [==============================] - 0s 2ms/step - loss: 0.3401 - val_loss: 0.6429\n",
      "Epoch 16/20\n",
      "242/242 [==============================] - 0s 2ms/step - loss: 0.3370 - val_loss: 0.6502\n",
      "Epoch 17/20\n",
      "242/242 [==============================] - 0s 2ms/step - loss: 0.3338 - val_loss: 0.6229\n",
      "Epoch 18/20\n",
      "242/242 [==============================] - 0s 2ms/step - loss: 0.3316 - val_loss: 0.6287\n",
      "Epoch 19/20\n",
      "242/242 [==============================] - 0s 2ms/step - loss: 0.3327 - val_loss: 0.6250\n",
      "Epoch 20/20\n",
      "242/242 [==============================] - 0s 2ms/step - loss: 0.3316 - val_loss: 0.6086\n",
      "121/121 [==============================] - 0s 1ms/step - loss: 0.3531\n"
     ]
    },
    {
     "name": "stderr",
     "output_type": "stream",
     "text": [
      "WARNING:absl:`lr` is deprecated in Keras optimizer, please use `learning_rate` or use the legacy optimizer, e.g.,tf.keras.optimizers.legacy.SGD.\n"
     ]
    },
    {
     "name": "stdout",
     "output_type": "stream",
     "text": [
      "Epoch 1/20\n",
      "242/242 [==============================] - 1s 2ms/step - loss: 0.9672 - val_loss: 0.5936\n",
      "Epoch 2/20\n",
      "242/242 [==============================] - 0s 2ms/step - loss: 0.5519 - val_loss: 0.4738\n",
      "Epoch 3/20\n",
      "242/242 [==============================] - 0s 2ms/step - loss: 0.4863 - val_loss: 0.4643\n",
      "Epoch 4/20\n",
      "242/242 [==============================] - 1s 2ms/step - loss: 0.4606 - val_loss: 0.4803\n",
      "Epoch 5/20\n",
      "242/242 [==============================] - 1s 2ms/step - loss: 0.4456 - val_loss: 0.4832\n",
      "Epoch 6/20\n",
      "242/242 [==============================] - 0s 2ms/step - loss: 0.4391 - val_loss: 0.4842\n",
      "Epoch 7/20\n",
      "242/242 [==============================] - 0s 2ms/step - loss: 0.4235 - val_loss: 0.4809\n",
      "Epoch 8/20\n",
      "242/242 [==============================] - 0s 2ms/step - loss: 0.4198 - val_loss: 0.4726\n",
      "Epoch 9/20\n",
      "242/242 [==============================] - 1s 2ms/step - loss: 0.4122 - val_loss: 0.4555\n",
      "Epoch 10/20\n",
      "242/242 [==============================] - 0s 2ms/step - loss: 0.4094 - val_loss: 0.4611\n",
      "Epoch 11/20\n",
      "242/242 [==============================] - 0s 2ms/step - loss: 0.4047 - val_loss: 0.4541\n",
      "Epoch 12/20\n",
      "242/242 [==============================] - 0s 2ms/step - loss: 0.3948 - val_loss: 0.4360\n",
      "Epoch 13/20\n",
      "242/242 [==============================] - 0s 2ms/step - loss: 0.3908 - val_loss: 0.4168\n",
      "Epoch 14/20\n",
      "242/242 [==============================] - 0s 2ms/step - loss: 0.3892 - val_loss: 0.4117\n",
      "Epoch 15/20\n",
      "242/242 [==============================] - 0s 2ms/step - loss: 0.3811 - val_loss: 0.4190\n",
      "Epoch 16/20\n",
      "242/242 [==============================] - 0s 2ms/step - loss: 0.3782 - val_loss: 0.4009\n",
      "Epoch 17/20\n",
      "242/242 [==============================] - 1s 2ms/step - loss: 0.3740 - val_loss: 0.3888\n",
      "Epoch 18/20\n",
      "242/242 [==============================] - 0s 2ms/step - loss: 0.3744 - val_loss: 0.3926\n",
      "Epoch 19/20\n",
      "242/242 [==============================] - 0s 2ms/step - loss: 0.3688 - val_loss: 0.3812\n",
      "Epoch 20/20\n",
      "242/242 [==============================] - 0s 2ms/step - loss: 0.3683 - val_loss: 0.3850\n",
      "121/121 [==============================] - 0s 1ms/step - loss: 0.3472\n"
     ]
    },
    {
     "name": "stderr",
     "output_type": "stream",
     "text": [
      "WARNING:absl:`lr` is deprecated in Keras optimizer, please use `learning_rate` or use the legacy optimizer, e.g.,tf.keras.optimizers.legacy.SGD.\n"
     ]
    },
    {
     "name": "stdout",
     "output_type": "stream",
     "text": [
      "Epoch 1/20\n",
      "242/242 [==============================] - 1s 2ms/step - loss: 1.8999 - val_loss: 0.5842\n",
      "Epoch 2/20\n",
      "242/242 [==============================] - 1s 2ms/step - loss: 0.4781 - val_loss: 0.4969\n",
      "Epoch 3/20\n",
      "242/242 [==============================] - 1s 2ms/step - loss: 0.4155 - val_loss: 0.4649\n",
      "Epoch 4/20\n",
      "242/242 [==============================] - 0s 2ms/step - loss: 0.3908 - val_loss: 0.4546\n",
      "Epoch 5/20\n",
      "242/242 [==============================] - 0s 2ms/step - loss: 0.3816 - val_loss: 0.4489\n",
      "Epoch 6/20\n",
      "242/242 [==============================] - 0s 2ms/step - loss: 0.3713 - val_loss: 0.4597\n",
      "Epoch 7/20\n",
      "242/242 [==============================] - 0s 2ms/step - loss: 0.3651 - val_loss: 0.4516\n",
      "Epoch 8/20\n",
      "242/242 [==============================] - 0s 2ms/step - loss: 0.3616 - val_loss: 0.4719\n",
      "Epoch 9/20\n",
      "242/242 [==============================] - 0s 2ms/step - loss: 0.3594 - val_loss: 0.4306\n",
      "Epoch 10/20\n",
      "242/242 [==============================] - 0s 2ms/step - loss: 0.3566 - val_loss: 0.4377\n",
      "Epoch 11/20\n",
      "242/242 [==============================] - 0s 2ms/step - loss: 0.3625 - val_loss: 0.4404\n",
      "Epoch 12/20\n",
      "242/242 [==============================] - 0s 2ms/step - loss: 0.3516 - val_loss: 0.5006\n",
      "Epoch 13/20\n",
      "242/242 [==============================] - 1s 2ms/step - loss: 0.3478 - val_loss: 0.4350\n",
      "Epoch 14/20\n",
      "242/242 [==============================] - 0s 2ms/step - loss: 0.3468 - val_loss: 0.4443\n",
      "Epoch 15/20\n",
      "242/242 [==============================] - 0s 2ms/step - loss: 0.3435 - val_loss: 0.4316\n",
      "Epoch 16/20\n",
      "242/242 [==============================] - 0s 2ms/step - loss: 0.3424 - val_loss: 0.4342\n",
      "Epoch 17/20\n",
      "242/242 [==============================] - 0s 2ms/step - loss: 0.3394 - val_loss: 0.4719\n",
      "Epoch 18/20\n",
      "242/242 [==============================] - 0s 2ms/step - loss: 0.3458 - val_loss: 0.4413\n",
      "Epoch 19/20\n",
      "242/242 [==============================] - 0s 2ms/step - loss: 0.3374 - val_loss: 0.4411\n",
      "121/121 [==============================] - 0s 1ms/step - loss: 0.3628\n"
     ]
    },
    {
     "name": "stderr",
     "output_type": "stream",
     "text": [
      "WARNING:absl:`lr` is deprecated in Keras optimizer, please use `learning_rate` or use the legacy optimizer, e.g.,tf.keras.optimizers.legacy.SGD.\n"
     ]
    },
    {
     "name": "stdout",
     "output_type": "stream",
     "text": [
      "Epoch 1/20\n",
      "363/363 [==============================] - 1s 2ms/step - loss: 0.7153 - val_loss: 0.5051\n",
      "Epoch 2/20\n",
      "363/363 [==============================] - 1s 2ms/step - loss: 0.5564 - val_loss: 0.4517\n",
      "Epoch 3/20\n",
      "363/363 [==============================] - 1s 2ms/step - loss: 0.4544 - val_loss: 0.3853\n",
      "Epoch 4/20\n",
      "363/363 [==============================] - 1s 2ms/step - loss: 0.3860 - val_loss: 0.3734\n",
      "Epoch 5/20\n",
      "363/363 [==============================] - 1s 2ms/step - loss: 0.3685 - val_loss: 0.3731\n",
      "Epoch 6/20\n",
      "363/363 [==============================] - 1s 2ms/step - loss: 0.3566 - val_loss: 0.3699\n",
      "Epoch 7/20\n",
      "363/363 [==============================] - 1s 2ms/step - loss: 0.3469 - val_loss: 0.3681\n",
      "Epoch 8/20\n",
      "363/363 [==============================] - 1s 2ms/step - loss: 0.3409 - val_loss: 0.3877\n",
      "Epoch 9/20\n",
      "363/363 [==============================] - 1s 2ms/step - loss: 0.3334 - val_loss: 0.4474\n",
      "Epoch 10/20\n",
      "363/363 [==============================] - 1s 2ms/step - loss: 0.3282 - val_loss: 0.3911\n",
      "Epoch 11/20\n",
      "363/363 [==============================] - 1s 2ms/step - loss: 0.3218 - val_loss: 0.3935\n",
      "Epoch 12/20\n",
      "363/363 [==============================] - 1s 2ms/step - loss: 0.3199 - val_loss: 0.3593\n",
      "Epoch 13/20\n",
      "363/363 [==============================] - 1s 2ms/step - loss: 0.3159 - val_loss: 0.3690\n",
      "Epoch 14/20\n",
      "363/363 [==============================] - 1s 2ms/step - loss: 0.3091 - val_loss: 0.3696\n",
      "Epoch 15/20\n",
      "363/363 [==============================] - 1s 2ms/step - loss: 0.3070 - val_loss: 0.3760\n",
      "Epoch 16/20\n",
      "363/363 [==============================] - 1s 2ms/step - loss: 0.3044 - val_loss: 0.4005\n",
      "Epoch 17/20\n",
      "363/363 [==============================] - 1s 2ms/step - loss: 0.2991 - val_loss: 0.3874\n",
      "Epoch 18/20\n",
      "363/363 [==============================] - 1s 2ms/step - loss: 0.2980 - val_loss: 0.4184\n",
      "Epoch 19/20\n",
      "363/363 [==============================] - 1s 2ms/step - loss: 0.2949 - val_loss: 0.4714\n",
      "Epoch 20/20\n",
      "363/363 [==============================] - 1s 2ms/step - loss: 0.2929 - val_loss: 0.4319\n"
     ]
    },
    {
     "data": {
      "text/html": [
       "<style>#sk-container-id-1 {color: black;background-color: white;}#sk-container-id-1 pre{padding: 0;}#sk-container-id-1 div.sk-toggleable {background-color: white;}#sk-container-id-1 label.sk-toggleable__label {cursor: pointer;display: block;width: 100%;margin-bottom: 0;padding: 0.3em;box-sizing: border-box;text-align: center;}#sk-container-id-1 label.sk-toggleable__label-arrow:before {content: \"▸\";float: left;margin-right: 0.25em;color: #696969;}#sk-container-id-1 label.sk-toggleable__label-arrow:hover:before {color: black;}#sk-container-id-1 div.sk-estimator:hover label.sk-toggleable__label-arrow:before {color: black;}#sk-container-id-1 div.sk-toggleable__content {max-height: 0;max-width: 0;overflow: hidden;text-align: left;background-color: #f0f8ff;}#sk-container-id-1 div.sk-toggleable__content pre {margin: 0.2em;color: black;border-radius: 0.25em;background-color: #f0f8ff;}#sk-container-id-1 input.sk-toggleable__control:checked~div.sk-toggleable__content {max-height: 200px;max-width: 100%;overflow: auto;}#sk-container-id-1 input.sk-toggleable__control:checked~label.sk-toggleable__label-arrow:before {content: \"▾\";}#sk-container-id-1 div.sk-estimator input.sk-toggleable__control:checked~label.sk-toggleable__label {background-color: #d4ebff;}#sk-container-id-1 div.sk-label input.sk-toggleable__control:checked~label.sk-toggleable__label {background-color: #d4ebff;}#sk-container-id-1 input.sk-hidden--visually {border: 0;clip: rect(1px 1px 1px 1px);clip: rect(1px, 1px, 1px, 1px);height: 1px;margin: -1px;overflow: hidden;padding: 0;position: absolute;width: 1px;}#sk-container-id-1 div.sk-estimator {font-family: monospace;background-color: #f0f8ff;border: 1px dotted black;border-radius: 0.25em;box-sizing: border-box;margin-bottom: 0.5em;}#sk-container-id-1 div.sk-estimator:hover {background-color: #d4ebff;}#sk-container-id-1 div.sk-parallel-item::after {content: \"\";width: 100%;border-bottom: 1px solid gray;flex-grow: 1;}#sk-container-id-1 div.sk-label:hover label.sk-toggleable__label {background-color: #d4ebff;}#sk-container-id-1 div.sk-serial::before {content: \"\";position: absolute;border-left: 1px solid gray;box-sizing: border-box;top: 0;bottom: 0;left: 50%;z-index: 0;}#sk-container-id-1 div.sk-serial {display: flex;flex-direction: column;align-items: center;background-color: white;padding-right: 0.2em;padding-left: 0.2em;position: relative;}#sk-container-id-1 div.sk-item {position: relative;z-index: 1;}#sk-container-id-1 div.sk-parallel {display: flex;align-items: stretch;justify-content: center;background-color: white;position: relative;}#sk-container-id-1 div.sk-item::before, #sk-container-id-1 div.sk-parallel-item::before {content: \"\";position: absolute;border-left: 1px solid gray;box-sizing: border-box;top: 0;bottom: 0;left: 50%;z-index: -1;}#sk-container-id-1 div.sk-parallel-item {display: flex;flex-direction: column;z-index: 1;position: relative;background-color: white;}#sk-container-id-1 div.sk-parallel-item:first-child::after {align-self: flex-end;width: 50%;}#sk-container-id-1 div.sk-parallel-item:last-child::after {align-self: flex-start;width: 50%;}#sk-container-id-1 div.sk-parallel-item:only-child::after {width: 0;}#sk-container-id-1 div.sk-dashed-wrapped {border: 1px dashed gray;margin: 0 0.4em 0.5em 0.4em;box-sizing: border-box;padding-bottom: 0.4em;background-color: white;}#sk-container-id-1 div.sk-label label {font-family: monospace;font-weight: bold;display: inline-block;line-height: 1.2em;}#sk-container-id-1 div.sk-label-container {text-align: center;}#sk-container-id-1 div.sk-container {/* jupyter's `normalize.less` sets `[hidden] { display: none; }` but bootstrap.min.css set `[hidden] { display: none !important; }` so we also need the `!important` here to be able to override the default hidden behavior on the sphinx rendered scikit-learn.org. See: https://github.com/scikit-learn/scikit-learn/issues/21755 */display: inline-block !important;position: relative;}#sk-container-id-1 div.sk-text-repr-fallback {display: none;}</style><div id=\"sk-container-id-1\" class=\"sk-top-container\"><div class=\"sk-text-repr-fallback\"><pre>RandomizedSearchCV(cv=3,\n",
       "                   estimator=&lt;keras.wrappers.scikit_learn.KerasRegressor object at 0x0000025FFE8CAE20&gt;,\n",
       "                   param_distributions={&#x27;learning_rate&#x27;: &lt;scipy.stats._distn_infrastructure.rv_continuous_frozen object at 0x0000025FFE4E9910&gt;,\n",
       "                                        &#x27;n_hidden&#x27;: [0, 1, 2, 3],\n",
       "                                        &#x27;n_neurons&#x27;: array([ 1,  2,  3,  4,  5,  6,  7,  8,  9, 10, 11, 12, 13, 14, 15, 16, 17,\n",
       "       18, 19, 20, 21, 22, 23, 24, 25, 26, 27, 28, 29, 30, 31, 32, 33, 34,\n",
       "       35, 36, 37, 38, 39, 40, 41, 42, 43, 44, 45, 46, 47, 48, 49, 50, 51,\n",
       "       52, 53, 54, 55, 56, 57, 58, 59, 60, 61, 62, 63, 64, 65, 66, 67, 68,\n",
       "       69, 70, 71, 72, 73, 74, 75, 76, 77, 78, 79, 80, 81, 82, 83, 84, 85,\n",
       "       86, 87, 88, 89, 90, 91, 92, 93, 94, 95, 96, 97, 98, 99])})</pre><b>In a Jupyter environment, please rerun this cell to show the HTML representation or trust the notebook. <br />On GitHub, the HTML representation is unable to render, please try loading this page with nbviewer.org.</b></div><div class=\"sk-container\" hidden><div class=\"sk-item sk-dashed-wrapped\"><div class=\"sk-label-container\"><div class=\"sk-label sk-toggleable\"><input class=\"sk-toggleable__control sk-hidden--visually\" id=\"sk-estimator-id-1\" type=\"checkbox\" ><label for=\"sk-estimator-id-1\" class=\"sk-toggleable__label sk-toggleable__label-arrow\">RandomizedSearchCV</label><div class=\"sk-toggleable__content\"><pre>RandomizedSearchCV(cv=3,\n",
       "                   estimator=&lt;keras.wrappers.scikit_learn.KerasRegressor object at 0x0000025FFE8CAE20&gt;,\n",
       "                   param_distributions={&#x27;learning_rate&#x27;: &lt;scipy.stats._distn_infrastructure.rv_continuous_frozen object at 0x0000025FFE4E9910&gt;,\n",
       "                                        &#x27;n_hidden&#x27;: [0, 1, 2, 3],\n",
       "                                        &#x27;n_neurons&#x27;: array([ 1,  2,  3,  4,  5,  6,  7,  8,  9, 10, 11, 12, 13, 14, 15, 16, 17,\n",
       "       18, 19, 20, 21, 22, 23, 24, 25, 26, 27, 28, 29, 30, 31, 32, 33, 34,\n",
       "       35, 36, 37, 38, 39, 40, 41, 42, 43, 44, 45, 46, 47, 48, 49, 50, 51,\n",
       "       52, 53, 54, 55, 56, 57, 58, 59, 60, 61, 62, 63, 64, 65, 66, 67, 68,\n",
       "       69, 70, 71, 72, 73, 74, 75, 76, 77, 78, 79, 80, 81, 82, 83, 84, 85,\n",
       "       86, 87, 88, 89, 90, 91, 92, 93, 94, 95, 96, 97, 98, 99])})</pre></div></div></div><div class=\"sk-parallel\"><div class=\"sk-parallel-item\"><div class=\"sk-item\"><div class=\"sk-label-container\"><div class=\"sk-label sk-toggleable\"><input class=\"sk-toggleable__control sk-hidden--visually\" id=\"sk-estimator-id-2\" type=\"checkbox\" ><label for=\"sk-estimator-id-2\" class=\"sk-toggleable__label sk-toggleable__label-arrow\">estimator: KerasRegressor</label><div class=\"sk-toggleable__content\"><pre>&lt;keras.wrappers.scikit_learn.KerasRegressor object at 0x0000025FFE8CAE20&gt;</pre></div></div></div><div class=\"sk-serial\"><div class=\"sk-item\"><div class=\"sk-estimator sk-toggleable\"><input class=\"sk-toggleable__control sk-hidden--visually\" id=\"sk-estimator-id-3\" type=\"checkbox\" ><label for=\"sk-estimator-id-3\" class=\"sk-toggleable__label sk-toggleable__label-arrow\">KerasRegressor</label><div class=\"sk-toggleable__content\"><pre>&lt;keras.wrappers.scikit_learn.KerasRegressor object at 0x0000025FFE8CAE20&gt;</pre></div></div></div></div></div></div></div></div></div></div>"
      ],
      "text/plain": [
       "RandomizedSearchCV(cv=3,\n",
       "                   estimator=<keras.wrappers.scikit_learn.KerasRegressor object at 0x0000025FFE8CAE20>,\n",
       "                   param_distributions={'learning_rate': <scipy.stats._distn_infrastructure.rv_continuous_frozen object at 0x0000025FFE4E9910>,\n",
       "                                        'n_hidden': [0, 1, 2, 3],\n",
       "                                        'n_neurons': array([ 1,  2,  3,  4,  5,  6,  7,  8,  9, 10, 11, 12, 13, 14, 15, 16, 17,\n",
       "       18, 19, 20, 21, 22, 23, 24, 25, 26, 27, 28, 29, 30, 31, 32, 33, 34,\n",
       "       35, 36, 37, 38, 39, 40, 41, 42, 43, 44, 45, 46, 47, 48, 49, 50, 51,\n",
       "       52, 53, 54, 55, 56, 57, 58, 59, 60, 61, 62, 63, 64, 65, 66, 67, 68,\n",
       "       69, 70, 71, 72, 73, 74, 75, 76, 77, 78, 79, 80, 81, 82, 83, 84, 85,\n",
       "       86, 87, 88, 89, 90, 91, 92, 93, 94, 95, 96, 97, 98, 99])})"
      ]
     },
     "execution_count": 43,
     "metadata": {},
     "output_type": "execute_result"
    }
   ],
   "source": [
    "rnd_serch_cv = RandomizedSearchCV(keras_reg, param_distribs, n_iter=10, cv=3)\n",
    "rnd_serch_cv.fit(X_train, y_train, epochs=20, validation_data=(X_valid, y_valid), callbacks = [keras.callbacks.EarlyStopping(patience=10)])"
   ]
  },
  {
   "cell_type": "markdown",
   "id": "0bcd40b1-0fc6-4828-bc31-9aff661202d1",
   "metadata": {},
   "source": [
    "### Obtener el conjunto de parámetros que tuvo el mejor rendimiento y su puntuación"
   ]
  },
  {
   "cell_type": "code",
   "execution_count": 44,
   "id": "5b50811a-bc9d-43f4-b3c3-68d2e71d192a",
   "metadata": {},
   "outputs": [
    {
     "data": {
      "text/plain": [
       "{'learning_rate': 0.0005331747900797502, 'n_hidden': 3, 'n_neurons': 65}"
      ]
     },
     "execution_count": 44,
     "metadata": {},
     "output_type": "execute_result"
    }
   ],
   "source": [
    "rnd_serch_cv.best_params_"
   ]
  },
  {
   "cell_type": "code",
   "execution_count": 45,
   "id": "312fc781-0e0d-4712-a098-25f1630ff226",
   "metadata": {},
   "outputs": [
    {
     "data": {
      "text/plain": [
       "-0.33153602480888367"
      ]
     },
     "execution_count": 45,
     "metadata": {},
     "output_type": "execute_result"
    }
   ],
   "source": [
    "rnd_serch_cv.best_score_"
   ]
  },
  {
   "cell_type": "code",
   "execution_count": null,
   "id": "8c8647b4-b801-4b5d-8e2e-91d56d66f17d",
   "metadata": {},
   "outputs": [],
   "source": []
  }
 ],
 "metadata": {
  "kernelspec": {
   "display_name": "Python 3 (ipykernel)",
   "language": "python",
   "name": "python3"
  },
  "language_info": {
   "codemirror_mode": {
    "name": "ipython",
    "version": 3
   },
   "file_extension": ".py",
   "mimetype": "text/x-python",
   "name": "python",
   "nbconvert_exporter": "python",
   "pygments_lexer": "ipython3",
   "version": "3.9.16"
  }
 },
 "nbformat": 4,
 "nbformat_minor": 5
}
