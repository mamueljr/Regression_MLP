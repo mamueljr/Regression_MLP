{
 "cells": [
  {
   "cell_type": "markdown",
   "id": "2fae6d5e-b444-475c-a73d-7211a27e5eed",
   "metadata": {},
   "source": [
    "## 1) Utiliza las librerias tensorflow y keras"
   ]
  },
  {
   "cell_type": "code",
   "execution_count": 56,
   "id": "c400d61a-e0b8-4b1d-bc80-e1ba43195609",
   "metadata": {},
   "outputs": [],
   "source": [
    "import tensorflow as tf\n",
    "import pandas as pd\n",
    "import numpy as np\n",
    "import matplotlib.pyplot as plt\n",
    "#from keras.models import Sequential\n",
    "import keras\n",
    "import keras.utils\n",
    "from keras import utils as np_utils\n",
    "%matplotlib inline"
   ]
  },
  {
   "cell_type": "markdown",
   "id": "2df56834-2388-4e99-9fd3-96393a32ebb9",
   "metadata": {},
   "source": [
    "### Cargar dataset "
   ]
  },
  {
   "cell_type": "markdown",
   "id": "4dff70dd-ee42-40bb-8028-937116de68ac",
   "metadata": {},
   "source": [
    "## 2 )Baja la base de datos fashion Mist de keras"
   ]
  },
  {
   "cell_type": "code",
   "execution_count": 57,
   "id": "1e922760-0ddd-4205-a7a9-312898b9b9aa",
   "metadata": {},
   "outputs": [],
   "source": [
    "datasets = tf.keras.datasets.fashion_mnist\n",
    "(X_train_full, y_train_full), (X_test, y_test) = datasets.load_data()"
   ]
  },
  {
   "cell_type": "markdown",
   "id": "64760f5c-a239-46cc-9964-74895a399526",
   "metadata": {},
   "source": [
    "## 3) Realiza las particiones de la DB Train , Validation y test"
   ]
  },
  {
   "cell_type": "code",
   "execution_count": 58,
   "id": "30f0b90d-ab9b-4f5d-8013-851392cdfbc1",
   "metadata": {},
   "outputs": [
    {
     "data": {
      "text/plain": [
       "(60000, 28, 28)"
      ]
     },
     "execution_count": 58,
     "metadata": {},
     "output_type": "execute_result"
    }
   ],
   "source": [
    "X_train_full.shape"
   ]
  },
  {
   "cell_type": "code",
   "execution_count": 59,
   "id": "f931921d-c29f-4a7a-a2b6-0473bd8b7bb2",
   "metadata": {},
   "outputs": [
    {
     "data": {
      "text/plain": [
       "dtype('uint8')"
      ]
     },
     "execution_count": 59,
     "metadata": {},
     "output_type": "execute_result"
    }
   ],
   "source": [
    "X_train_full.dtype"
   ]
  },
  {
   "cell_type": "code",
   "execution_count": 60,
   "id": "4d127ea5-4958-424f-9e51-ad01ef68bc01",
   "metadata": {},
   "outputs": [
    {
     "data": {
      "text/plain": [
       "(60000,)"
      ]
     },
     "execution_count": 60,
     "metadata": {},
     "output_type": "execute_result"
    }
   ],
   "source": [
    "y_train_full.shape"
   ]
  },
  {
   "cell_type": "code",
   "execution_count": 61,
   "id": "e1a6763a-38ab-462e-859d-7a6b2a90cdf3",
   "metadata": {},
   "outputs": [
    {
     "data": {
      "text/plain": [
       "dtype('uint8')"
      ]
     },
     "execution_count": 61,
     "metadata": {},
     "output_type": "execute_result"
    }
   ],
   "source": [
    "y_train_full.dtype"
   ]
  },
  {
   "cell_type": "code",
   "execution_count": 62,
   "id": "16e57839-0bb5-4d14-8a15-505bfee0c596",
   "metadata": {},
   "outputs": [
    {
     "data": {
      "text/plain": [
       "(10000, 28, 28)"
      ]
     },
     "execution_count": 62,
     "metadata": {},
     "output_type": "execute_result"
    }
   ],
   "source": [
    "X_test.shape"
   ]
  },
  {
   "cell_type": "code",
   "execution_count": 63,
   "id": "c95366b1-a440-469b-b317-2981deb2fa70",
   "metadata": {},
   "outputs": [
    {
     "data": {
      "text/plain": [
       "dtype('uint8')"
      ]
     },
     "execution_count": 63,
     "metadata": {},
     "output_type": "execute_result"
    }
   ],
   "source": [
    "X_test.dtype"
   ]
  },
  {
   "cell_type": "code",
   "execution_count": 64,
   "id": "e7bd67df-1f82-4429-96c4-960231e825f1",
   "metadata": {},
   "outputs": [
    {
     "data": {
      "text/plain": [
       "(10000,)"
      ]
     },
     "execution_count": 64,
     "metadata": {},
     "output_type": "execute_result"
    }
   ],
   "source": [
    "y_test.shape"
   ]
  },
  {
   "cell_type": "code",
   "execution_count": 65,
   "id": "e77305b9-1fb3-4103-8dc7-4d7c4f947d6e",
   "metadata": {},
   "outputs": [
    {
     "data": {
      "text/plain": [
       "dtype('uint8')"
      ]
     },
     "execution_count": 65,
     "metadata": {},
     "output_type": "execute_result"
    }
   ],
   "source": [
    "y_test.dtype"
   ]
  },
  {
   "cell_type": "markdown",
   "id": "0600d4a3-fcc2-495f-9d89-67005503bb3d",
   "metadata": {},
   "source": [
    "Set de validacion"
   ]
  },
  {
   "cell_type": "code",
   "execution_count": 66,
   "id": "fd10ae67-168b-4293-bfed-19d646b37891",
   "metadata": {},
   "outputs": [],
   "source": [
    "X_validation, X_train = X_train_full[:5000] /255.0, X_train_full[500:]/255.0\n",
    "y_validation, y_train = y_train_full[:5000], y_train_full[500:]"
   ]
  },
  {
   "cell_type": "markdown",
   "id": "f8c74d70-72a7-4ace-8bc4-b5ea443da759",
   "metadata": {},
   "source": [
    "### Nombre de las Clases"
   ]
  },
  {
   "cell_type": "code",
   "execution_count": 67,
   "id": "0590ead6-7b15-4bbc-8b82-59179778e708",
   "metadata": {},
   "outputs": [],
   "source": [
    "class_names= ['T-shirt/top', 'Trouser', 'Pullover',\n",
    "              'Dress', 'Coat', 'Sandal', 'Shirt',\n",
    "              'Sneaker','Bag', 'Ankel boot']"
   ]
  },
  {
   "cell_type": "code",
   "execution_count": 68,
   "id": "070963c0-f3f1-45a5-83a7-013262bce67c",
   "metadata": {},
   "outputs": [
    {
     "data": {
      "text/plain": [
       "'Dress'"
      ]
     },
     "execution_count": 68,
     "metadata": {},
     "output_type": "execute_result"
    }
   ],
   "source": [
    "class_names[y_train[0]]"
   ]
  },
  {
   "cell_type": "markdown",
   "id": "1a45ca18-0f71-4608-b639-c014a5316543",
   "metadata": {},
   "source": [
    "### Modelo"
   ]
  },
  {
   "cell_type": "markdown",
   "id": "e67c79fa-30d9-445d-a51d-865ce750ab47",
   "metadata": {},
   "source": [
    "## 5) Crea un MLP con dos capas ocultas (models.Sequential( )). Recuerda que un MLP esta constituido por una capa de entrada y una capa de salida por default. Las capas ocultas son totalmente conectadas o capas densas."
   ]
  },
  {
   "cell_type": "code",
   "execution_count": 69,
   "id": "c84ff52e-2245-4e87-81d9-17e59cba6ef4",
   "metadata": {},
   "outputs": [],
   "source": [
    "model = keras.Sequential()\n",
    "model.add(keras.layers.Flatten(input_shape = [28, 28]))\n",
    "model.add(keras.layers.Dense(300, activation = 'relu'))\n",
    "model.add(keras.layers.Dense(100, activation = 'relu')),\n",
    "model.add(keras.layers.Dense(10, activation = 'softmax'))"
   ]
  },
  {
   "cell_type": "markdown",
   "id": "842afb3a-2a06-4c90-bdf5-06ddef1684fc",
   "metadata": {},
   "source": [
    "## 6) Visualiza el modelo con la función de summary( )"
   ]
  },
  {
   "cell_type": "code",
   "execution_count": 70,
   "id": "85b358d1-62c8-4ece-abdc-afd67139cf9b",
   "metadata": {},
   "outputs": [
    {
     "name": "stdout",
     "output_type": "stream",
     "text": [
      "Model: \"sequential\"\n",
      "_________________________________________________________________\n",
      " Layer (type)                Output Shape              Param #   \n",
      "=================================================================\n",
      " flatten (Flatten)           (None, 784)               0         \n",
      "                                                                 \n",
      " dense (Dense)               (None, 300)               235500    \n",
      "                                                                 \n",
      " dense_1 (Dense)             (None, 100)               30100     \n",
      "                                                                 \n",
      " dense_2 (Dense)             (None, 10)                1010      \n",
      "                                                                 \n",
      "=================================================================\n",
      "Total params: 266,610\n",
      "Trainable params: 266,610\n",
      "Non-trainable params: 0\n",
      "_________________________________________________________________\n"
     ]
    }
   ],
   "source": [
    "model.summary()"
   ]
  },
  {
   "cell_type": "code",
   "execution_count": 71,
   "id": "67723165-f352-4603-ae24-5cdb1cb3d36a",
   "metadata": {},
   "outputs": [
    {
     "data": {
      "text/plain": [
       "[<keras.layers.reshaping.flatten.Flatten at 0x2df170bd340>,\n",
       " <keras.layers.core.dense.Dense at 0x2df170e7610>,\n",
       " <keras.layers.core.dense.Dense at 0x2df359aba60>,\n",
       " <keras.layers.core.dense.Dense at 0x2df359174f0>]"
      ]
     },
     "execution_count": 71,
     "metadata": {},
     "output_type": "execute_result"
    }
   ],
   "source": [
    "model.layers"
   ]
  },
  {
   "cell_type": "code",
   "execution_count": 72,
   "id": "c4a1bb52-682e-4451-96d1-a1f7ff3e8e1d",
   "metadata": {},
   "outputs": [],
   "source": [
    "hidden1=model.layers[1]"
   ]
  },
  {
   "cell_type": "code",
   "execution_count": 73,
   "id": "8e383331-a49d-41ad-a6e2-e90a78eb5d42",
   "metadata": {},
   "outputs": [
    {
     "data": {
      "text/plain": [
       "'dense'"
      ]
     },
     "execution_count": 73,
     "metadata": {},
     "output_type": "execute_result"
    }
   ],
   "source": [
    "hidden1.name"
   ]
  },
  {
   "cell_type": "code",
   "execution_count": 74,
   "id": "b68f5d9a-da9d-473a-9804-46d6fe6b9e81",
   "metadata": {},
   "outputs": [
    {
     "data": {
      "text/plain": [
       "True"
      ]
     },
     "execution_count": 74,
     "metadata": {},
     "output_type": "execute_result"
    }
   ],
   "source": [
    "model.get_layer('dense') is hidden1"
   ]
  },
  {
   "cell_type": "code",
   "execution_count": 75,
   "id": "f9f1a111-3790-41e5-bba4-a499577068c9",
   "metadata": {},
   "outputs": [],
   "source": [
    "weights, biases = hidden1.get_weights()"
   ]
  },
  {
   "cell_type": "markdown",
   "id": "20c11d28-c0b4-43ea-a16d-595795714dec",
   "metadata": {},
   "source": [
    "### Pesos"
   ]
  },
  {
   "cell_type": "code",
   "execution_count": 76,
   "id": "c8d9cc29-2039-418e-a6ab-c366afc23065",
   "metadata": {},
   "outputs": [
    {
     "data": {
      "text/plain": [
       "array([[-0.03432912,  0.06187272,  0.04657939, ...,  0.01283477,\n",
       "         0.05128184,  0.02761538],\n",
       "       [-0.00023387,  0.06485744, -0.02701672, ..., -0.03269657,\n",
       "        -0.00341301,  0.01505826],\n",
       "       [-0.06140288, -0.00056236,  0.02236344, ...,  0.02170828,\n",
       "        -0.01718372, -0.04919113],\n",
       "       ...,\n",
       "       [-0.03166256,  0.03744415, -0.04359319, ..., -0.00145688,\n",
       "        -0.00841031,  0.03004858],\n",
       "       [ 0.00249609,  0.01418342,  0.02217489, ...,  0.06552383,\n",
       "        -0.0627097 ,  0.00151423],\n",
       "       [ 0.06732984,  0.01115339,  0.04033346, ...,  0.01270848,\n",
       "        -0.0127294 ,  0.07061945]], dtype=float32)"
      ]
     },
     "execution_count": 76,
     "metadata": {},
     "output_type": "execute_result"
    }
   ],
   "source": [
    "weights"
   ]
  },
  {
   "cell_type": "markdown",
   "id": "01b0c31d-0cf8-4572-a9ae-22bdd83af9ea",
   "metadata": {},
   "source": [
    "### Biases"
   ]
  },
  {
   "cell_type": "code",
   "execution_count": 77,
   "id": "c0afd6a1-bb71-4e7e-b749-04d355647d04",
   "metadata": {},
   "outputs": [
    {
     "data": {
      "text/plain": [
       "array([0., 0., 0., 0., 0., 0., 0., 0., 0., 0., 0., 0., 0., 0., 0., 0., 0.,\n",
       "       0., 0., 0., 0., 0., 0., 0., 0., 0., 0., 0., 0., 0., 0., 0., 0., 0.,\n",
       "       0., 0., 0., 0., 0., 0., 0., 0., 0., 0., 0., 0., 0., 0., 0., 0., 0.,\n",
       "       0., 0., 0., 0., 0., 0., 0., 0., 0., 0., 0., 0., 0., 0., 0., 0., 0.,\n",
       "       0., 0., 0., 0., 0., 0., 0., 0., 0., 0., 0., 0., 0., 0., 0., 0., 0.,\n",
       "       0., 0., 0., 0., 0., 0., 0., 0., 0., 0., 0., 0., 0., 0., 0., 0., 0.,\n",
       "       0., 0., 0., 0., 0., 0., 0., 0., 0., 0., 0., 0., 0., 0., 0., 0., 0.,\n",
       "       0., 0., 0., 0., 0., 0., 0., 0., 0., 0., 0., 0., 0., 0., 0., 0., 0.,\n",
       "       0., 0., 0., 0., 0., 0., 0., 0., 0., 0., 0., 0., 0., 0., 0., 0., 0.,\n",
       "       0., 0., 0., 0., 0., 0., 0., 0., 0., 0., 0., 0., 0., 0., 0., 0., 0.,\n",
       "       0., 0., 0., 0., 0., 0., 0., 0., 0., 0., 0., 0., 0., 0., 0., 0., 0.,\n",
       "       0., 0., 0., 0., 0., 0., 0., 0., 0., 0., 0., 0., 0., 0., 0., 0., 0.,\n",
       "       0., 0., 0., 0., 0., 0., 0., 0., 0., 0., 0., 0., 0., 0., 0., 0., 0.,\n",
       "       0., 0., 0., 0., 0., 0., 0., 0., 0., 0., 0., 0., 0., 0., 0., 0., 0.,\n",
       "       0., 0., 0., 0., 0., 0., 0., 0., 0., 0., 0., 0., 0., 0., 0., 0., 0.,\n",
       "       0., 0., 0., 0., 0., 0., 0., 0., 0., 0., 0., 0., 0., 0., 0., 0., 0.,\n",
       "       0., 0., 0., 0., 0., 0., 0., 0., 0., 0., 0., 0., 0., 0., 0., 0., 0.,\n",
       "       0., 0., 0., 0., 0., 0., 0., 0., 0., 0., 0.], dtype=float32)"
      ]
     },
     "execution_count": 77,
     "metadata": {},
     "output_type": "execute_result"
    }
   ],
   "source": [
    "biases"
   ]
  },
  {
   "cell_type": "markdown",
   "id": "41d22ab9-0904-4091-861c-e107a294840b",
   "metadata": {},
   "source": [
    "## 7) Especifica la fucion de perdida y el parametro de optimizacion mediante el metodo compile"
   ]
  },
  {
   "cell_type": "code",
   "execution_count": 78,
   "id": "874c7a34-046b-4a61-9c91-d46c99e479c3",
   "metadata": {},
   "outputs": [],
   "source": [
    "model.compile(loss=tf.losses.sparse_categorical_crossentropy,\n",
    "             optimizer = 'sgd',\n",
    "             metrics=['accuracy'])"
   ]
  },
  {
   "cell_type": "markdown",
   "id": "a89befc9-13ef-4361-9ac8-7536b369ff03",
   "metadata": {},
   "source": [
    "## 8) Entrena el modelo y grafica su desempeño como en el ejemplo"
   ]
  },
  {
   "cell_type": "code",
   "execution_count": 79,
   "id": "3e370e23-1eaf-41c2-aa03-5ed660861a8c",
   "metadata": {},
   "outputs": [
    {
     "name": "stdout",
     "output_type": "stream",
     "text": [
      "Epoch 1/30\n",
      "1860/1860 [==============================] - 6s 3ms/step - loss: 0.7200 - accuracy: 0.7610 - val_loss: 0.5003 - val_accuracy: 0.8308\n",
      "Epoch 2/30\n",
      "1860/1860 [==============================] - 4s 2ms/step - loss: 0.4903 - accuracy: 0.8293 - val_loss: 0.4478 - val_accuracy: 0.8466\n",
      "Epoch 3/30\n",
      "1860/1860 [==============================] - 4s 2ms/step - loss: 0.4457 - accuracy: 0.8438 - val_loss: 0.4200 - val_accuracy: 0.8550\n",
      "Epoch 4/30\n",
      "1860/1860 [==============================] - 5s 3ms/step - loss: 0.4177 - accuracy: 0.8532 - val_loss: 0.4071 - val_accuracy: 0.8586\n",
      "Epoch 5/30\n",
      "1860/1860 [==============================] - 6s 3ms/step - loss: 0.3966 - accuracy: 0.8620 - val_loss: 0.4079 - val_accuracy: 0.8540\n",
      "Epoch 6/30\n",
      "1860/1860 [==============================] - 6s 3ms/step - loss: 0.3799 - accuracy: 0.8661 - val_loss: 0.4382 - val_accuracy: 0.8334\n",
      "Epoch 7/30\n",
      "1860/1860 [==============================] - 6s 3ms/step - loss: 0.3669 - accuracy: 0.8702 - val_loss: 0.3470 - val_accuracy: 0.8786\n",
      "Epoch 8/30\n",
      "1860/1860 [==============================] - 6s 3ms/step - loss: 0.3538 - accuracy: 0.8744 - val_loss: 0.3377 - val_accuracy: 0.8854\n",
      "Epoch 9/30\n",
      "1860/1860 [==============================] - 5s 3ms/step - loss: 0.3445 - accuracy: 0.8785 - val_loss: 0.3176 - val_accuracy: 0.8908\n",
      "Epoch 10/30\n",
      "1860/1860 [==============================] - 6s 3ms/step - loss: 0.3345 - accuracy: 0.8819 - val_loss: 0.3257 - val_accuracy: 0.8820\n",
      "Epoch 11/30\n",
      "1860/1860 [==============================] - 5s 3ms/step - loss: 0.3260 - accuracy: 0.8846 - val_loss: 0.3500 - val_accuracy: 0.8736\n",
      "Epoch 12/30\n",
      "1860/1860 [==============================] - 6s 3ms/step - loss: 0.3187 - accuracy: 0.8861 - val_loss: 0.3343 - val_accuracy: 0.8816\n",
      "Epoch 13/30\n",
      "1860/1860 [==============================] - 6s 3ms/step - loss: 0.3113 - accuracy: 0.8879 - val_loss: 0.3010 - val_accuracy: 0.8906\n",
      "Epoch 14/30\n",
      "1860/1860 [==============================] - 5s 3ms/step - loss: 0.3041 - accuracy: 0.8904 - val_loss: 0.2885 - val_accuracy: 0.8978\n",
      "Epoch 15/30\n",
      "1860/1860 [==============================] - 5s 3ms/step - loss: 0.2971 - accuracy: 0.8932 - val_loss: 0.2996 - val_accuracy: 0.8864\n",
      "Epoch 16/30\n",
      "1860/1860 [==============================] - 6s 3ms/step - loss: 0.2917 - accuracy: 0.8946 - val_loss: 0.2985 - val_accuracy: 0.8918\n",
      "Epoch 17/30\n",
      "1860/1860 [==============================] - 5s 3ms/step - loss: 0.2858 - accuracy: 0.8971 - val_loss: 0.2722 - val_accuracy: 0.9032\n",
      "Epoch 18/30\n",
      "1860/1860 [==============================] - 5s 3ms/step - loss: 0.2796 - accuracy: 0.8992 - val_loss: 0.2730 - val_accuracy: 0.9020\n",
      "Epoch 19/30\n",
      "1860/1860 [==============================] - 6s 3ms/step - loss: 0.2745 - accuracy: 0.9007 - val_loss: 0.2636 - val_accuracy: 0.9064\n",
      "Epoch 20/30\n",
      "1860/1860 [==============================] - 5s 3ms/step - loss: 0.2692 - accuracy: 0.9031 - val_loss: 0.3809 - val_accuracy: 0.8492\n",
      "Epoch 21/30\n",
      "1860/1860 [==============================] - 5s 3ms/step - loss: 0.2640 - accuracy: 0.9050 - val_loss: 0.2517 - val_accuracy: 0.9066\n",
      "Epoch 22/30\n",
      "1860/1860 [==============================] - 6s 3ms/step - loss: 0.2593 - accuracy: 0.9065 - val_loss: 0.2600 - val_accuracy: 0.9044\n",
      "Epoch 23/30\n",
      "1860/1860 [==============================] - 5s 3ms/step - loss: 0.2555 - accuracy: 0.9076 - val_loss: 0.2415 - val_accuracy: 0.9128\n",
      "Epoch 24/30\n",
      "1860/1860 [==============================] - 5s 3ms/step - loss: 0.2507 - accuracy: 0.9085 - val_loss: 0.2416 - val_accuracy: 0.9128\n",
      "Epoch 25/30\n",
      "1860/1860 [==============================] - 6s 3ms/step - loss: 0.2448 - accuracy: 0.9116 - val_loss: 0.2513 - val_accuracy: 0.9054\n",
      "Epoch 26/30\n",
      "1860/1860 [==============================] - 5s 3ms/step - loss: 0.2424 - accuracy: 0.9121 - val_loss: 0.2577 - val_accuracy: 0.9030\n",
      "Epoch 27/30\n",
      "1860/1860 [==============================] - 5s 3ms/step - loss: 0.2373 - accuracy: 0.9143 - val_loss: 0.2273 - val_accuracy: 0.9150\n",
      "Epoch 28/30\n",
      "1860/1860 [==============================] - 5s 3ms/step - loss: 0.2341 - accuracy: 0.9155 - val_loss: 0.2372 - val_accuracy: 0.9082\n",
      "Epoch 29/30\n",
      "1860/1860 [==============================] - 5s 3ms/step - loss: 0.2304 - accuracy: 0.9168 - val_loss: 0.2194 - val_accuracy: 0.9194\n",
      "Epoch 30/30\n",
      "1860/1860 [==============================] - 5s 3ms/step - loss: 0.2255 - accuracy: 0.9186 - val_loss: 0.2400 - val_accuracy: 0.9102\n"
     ]
    }
   ],
   "source": [
    "history  = model.fit(X_train, y_train, epochs=30,\n",
    "                    validation_data=(X_validation, y_validation))"
   ]
  },
  {
   "cell_type": "markdown",
   "id": "9a49f934-8e63-4d07-adab-a05700ed45bd",
   "metadata": {},
   "source": [
    "### Plot del modelo"
   ]
  },
  {
   "cell_type": "code",
   "execution_count": 80,
   "id": "b0e81015-1385-4d73-b668-299f8e68ebcc",
   "metadata": {},
   "outputs": [
    {
     "data": {
      "image/png": "[encoded data removed]",
      "text/plain": [
       "<Figure size 800x500 with 1 Axes>"
      ]
     },
     "metadata": {},
     "output_type": "display_data"
    }
   ],
   "source": [
    "pd.DataFrame(history.history).plot(figsize = (8, 5))\n",
    "plt.grid(True)\n",
    "plt.gca().set_ylim(0, 1)\n",
    "plt.show()"
   ]
  },
  {
   "cell_type": "markdown",
   "id": "fcd7e002-61c4-4888-85ef-2a9b27afd77c",
   "metadata": {},
   "source": [
    "## 9) Evaluar el modelo"
   ]
  },
  {
   "cell_type": "code",
   "execution_count": 81,
   "id": "cd08347a-604b-4d32-a8f8-3b52c469fe04",
   "metadata": {},
   "outputs": [
    {
     "name": "stdout",
     "output_type": "stream",
     "text": [
      "313/313 [==============================] - 1s 2ms/step - loss: 97.3076 - accuracy: 0.8106\n"
     ]
    },
    {
     "data": {
      "text/plain": [
       "[97.3076400756836, 0.8105999827384949]"
      ]
     },
     "execution_count": 81,
     "metadata": {},
     "output_type": "execute_result"
    }
   ],
   "source": [
    "model.evaluate(X_test, y_test)"
   ]
  },
  {
   "cell_type": "markdown",
   "id": "ff582c91-7aea-4f25-a465-ccec91fdb1b8",
   "metadata": {},
   "source": [
    "### Usar el modelo para predicciones"
   ]
  },
  {
   "cell_type": "code",
   "execution_count": 85,
   "id": "d0806b5e-b658-4329-bfb9-916747c4db0c",
   "metadata": {},
   "outputs": [
    {
     "name": "stdout",
     "output_type": "stream",
     "text": [
      "1/1 [==============================] - 0s 106ms/step\n"
     ]
    },
    {
     "data": {
      "text/plain": [
       "array([[0., 0., 0., 0., 0., 0., 0., 0., 0., 1.],\n",
       "       [0., 0., 1., 0., 0., 0., 0., 0., 0., 0.],\n",
       "       [0., 1., 0., 0., 0., 0., 0., 0., 0., 0.]], dtype=float32)"
      ]
     },
     "execution_count": 85,
     "metadata": {},
     "output_type": "execute_result"
    }
   ],
   "source": [
    "X_new = X_test[:3]\n",
    "y_probabilities = model.predict(X_new)\n",
    "y_probabilities.round(2)"
   ]
  },
  {
   "cell_type": "code",
   "execution_count": 88,
   "id": "a009313a-a2be-44b3-be93-ffec0404cfdf",
   "metadata": {},
   "outputs": [
    {
     "name": "stdout",
     "output_type": "stream",
     "text": [
      "1/1 [==============================] - 0s 24ms/step\n"
     ]
    },
    {
     "data": {
      "text/plain": [
       "array([9, 2, 1], dtype=int64)"
      ]
     },
     "execution_count": 88,
     "metadata": {},
     "output_type": "execute_result"
    }
   ],
   "source": [
    "#y_predict = model.predict_classes(X_new)\n",
    "y_predict = np.argmax(model.predict(X_new),axis=1)\n",
    "y_predict"
   ]
  },
  {
   "cell_type": "code",
   "execution_count": 89,
   "id": "8389606d-0b57-43cd-bdbc-45fdf264e999",
   "metadata": {},
   "outputs": [
    {
     "data": {
      "text/plain": [
       "array(['Ankel boot', 'Pullover', 'Trouser'], dtype='<U11')"
      ]
     },
     "execution_count": 89,
     "metadata": {},
     "output_type": "execute_result"
    }
   ],
   "source": [
    "np.array(class_names)[y_predict]"
   ]
  },
  {
   "cell_type": "markdown",
   "id": "a1de10ba-f572-4ea7-aed4-e8c1ee4f9fb6",
   "metadata": {},
   "source": [
    "El modelo crasifica correctamente las 3 imagenes"
   ]
  },
  {
   "cell_type": "code",
   "execution_count": 90,
   "id": "bf992b59-762c-4ff8-9c74-58496a62f25e",
   "metadata": {},
   "outputs": [
    {
     "data": {
      "text/plain": [
       "array([9, 2, 1], dtype=uint8)"
      ]
     },
     "execution_count": 90,
     "metadata": {},
     "output_type": "execute_result"
    }
   ],
   "source": [
    "y_new=y_test[:3]\n",
    "y_new"
   ]
  },
  {
   "cell_type": "code",
   "execution_count": 91,
   "id": "e40344a0-f82f-4712-88a0-5265087feb54",
   "metadata": {},
   "outputs": [
    {
     "data": {
      "text/plain": [
       "array(['Ankel boot', 'Pullover', 'Trouser'], dtype='<U11')"
      ]
     },
     "execution_count": 91,
     "metadata": {},
     "output_type": "execute_result"
    }
   ],
   "source": [
    "np.array(class_names)[y_new]"
   ]
  },
  {
   "cell_type": "markdown",
   "id": "9640f11e-3187-4f45-9e51-116a9edb01cb",
   "metadata": {},
   "source": [
    "# Concluciones"
   ]
  },
  {
   "cell_type": "markdown",
   "id": "4ea1437b-ca17-49f9-9161-3d595dde4561",
   "metadata": {},
   "source": [
    "Fashion-MNIST es un dataset creado especialmente para Machine learning y tratar d remplazar a MNIST, ya que este es relativamente facil de predecir y no representaria ningun reto. una de las diferencias mas importantes es qie cada imagen es representada como un arreglo de 28x28 en lugar de un arreglo de 1 dimencion, aparte de que cada pixel tiene una intencidad representada con numeros enteros de 0 a 255 en lugar de numeros decimales de 0.0 a 255.0.\n",
    "\n",
    "MLP (Multi layer Perceptron) consiste en multiples capas interconectadas de neuronas, cada una de ellas esta conectada a las neuronas anteriores y a las siguientes, en esta tarea trabajamos con MLP para clasificacion de imagenes con 2 capas ocultas.\n",
    "\n",
    "<img src=\"http://avelinoherrera.com/blog/images/dibujo_mlp.png\">\n",
    "\n",
    "La libreria de Keras nos permite de una manera relativamente sencilla construir un MLP con solamente una pocas lineas de codigo."
   ]
  },
  {
   "cell_type": "code",
   "execution_count": null,
   "id": "7ba54c80-61a3-48d4-8ad9-665a53c770f0",
   "metadata": {},
   "outputs": [],
   "source": []
  }
 ],
 "metadata": {
  "kernelspec": {
   "display_name": "Python 3 (ipykernel)",
   "language": "python",
   "name": "python3"
  },
  "language_info": {
   "codemirror_mode": {
    "name": "ipython",
    "version": 3
   },
   "file_extension": ".py",
   "mimetype": "text/x-python",
   "name": "python",
   "nbconvert_exporter": "python",
   "pygments_lexer": "ipython3",
   "version": "3.7.16"
  }
 },
 "nbformat": 4,
 "nbformat_minor": 5
}
