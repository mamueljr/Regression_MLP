{
 "cells": [
  {
   "cell_type": "markdown",
   "id": "4df55a9a-882e-4bc2-92cf-5da93e9a1578",
   "metadata": {},
   "source": [
    "<h1><center>Machine Learning</center></h1>\n",
    "<h1><center>Prediccion con perceptron</center></h1>\n",
    "<h2><center>Adalberto Emmanuel Rojas Perea 173374</center></h2>\n",
    "<h2><center>Asesor: Mtra Olanda Prieto</center></h2>"
   ]
  },
  {
   "cell_type": "markdown",
   "id": "165c2940-38b8-4d56-b670-cdab21fe93ff",
   "metadata": {},
   "source": [
    "## Exploracion del DataSet\n",
    "<center><img src=\"head.jpg\"/></center>"
   ]
  },
  {
   "cell_type": "code",
   "execution_count": 1,
   "id": "4cef9258-2e38-4309-832c-dc9063950f0a",
   "metadata": {},
   "outputs": [],
   "source": [
    "%load_ext autoreload\n",
    "%autoreload 2\n",
    "%matplotlib inline\n",
    "import matplotlib.pyplot as plt\n",
    "import numpy as np\n",
    "import pandas as pd\n",
    "import seaborn as sns\n",
    "from joblib import dump\n",
    "from sklearn.linear_model import Perceptron\n",
    "from sklearn.model_selection import train_test_split\n",
    "from pandas.plotting import scatter_matrix\n",
    "from sklearn import datasets\n",
    "from sklearn.pipeline import Pipeline, make_pipeline\n",
    "from sklearn.preprocessing import StandardScaler\n",
    "from sklearn.svm import LinearSVC\n",
    "from sklearn.impute import SimpleImputer\n",
    "from sklearn.model_selection import GridSearchCV\n",
    "from sklearn.metrics import confusion_matrix,precision_score, recall_score, f1_score, accuracy_score, classification_report, make_scorer"
   ]
  },
  {
   "cell_type": "code",
   "execution_count": 2,
   "id": "9a7d0d1e-927e-4b90-b6a5-0879b8d8801c",
   "metadata": {},
   "outputs": [
    {
     "data": {
      "text/plain": [
       "['data',\n",
       " 'target',\n",
       " 'frame',\n",
       " 'target_names',\n",
       " 'DESCR',\n",
       " 'feature_names',\n",
       " 'filename',\n",
       " 'data_module']"
      ]
     },
     "execution_count": 2,
     "metadata": {},
     "output_type": "execute_result"
    }
   ],
   "source": [
    "iris = datasets.load_iris()\n",
    "list(iris.keys())\n"
   ]
  },
  {
   "cell_type": "markdown",
   "id": "4f3610c8-57f2-4c96-b4f7-ddbb620a2005",
   "metadata": {},
   "source": [
    "### Identificar Features"
   ]
  },
  {
   "cell_type": "code",
   "execution_count": 3,
   "id": "bdb475c3-91ff-4895-9f42-86629a2f55b5",
   "metadata": {},
   "outputs": [
    {
     "name": "stdout",
     "output_type": "stream",
     "text": [
      "['sepal length (cm)', 'sepal width (cm)', 'petal length (cm)', 'petal width (cm)']\n"
     ]
    }
   ],
   "source": [
    "print(iris.feature_names)"
   ]
  },
  {
   "cell_type": "markdown",
   "id": "5f922314-48dd-4167-bce1-cbadf7997121",
   "metadata": {},
   "source": [
    "#### Tenemos 4 features en el dataset: sepal length (cm), sepal width (cm), petal length (cm), petal width (cm)\n",
    "Aqui una muestra de cuales son cada uno de ellos:\n",
    "<center><img src=\"features.png\"/></center>"
   ]
  },
  {
   "cell_type": "markdown",
   "id": "65052619-1f9e-46e6-8fe6-0058f45db8d0",
   "metadata": {},
   "source": [
    "### Target Names"
   ]
  },
  {
   "cell_type": "code",
   "execution_count": 4,
   "id": "165d6529-7a8a-4ee6-8e80-0b96dda07da7",
   "metadata": {},
   "outputs": [
    {
     "name": "stdout",
     "output_type": "stream",
     "text": [
      "['setosa' 'versicolor' 'virginica']\n"
     ]
    }
   ],
   "source": [
    "print(iris.target_names)"
   ]
  },
  {
   "cell_type": "markdown",
   "id": "6fc7a805-511f-414a-9841-f4f7547fc807",
   "metadata": {},
   "source": [
    "Ahora sabemos el nombre de los target los cuales son : Setosa, Versicolor y Virginica, las cuales mas adelante vamos a tratar de predecir\n",
    "<center><img src=\"target_names.png\"/></center>"
   ]
  },
  {
   "cell_type": "code",
   "execution_count": 5,
   "id": "1afb0719-3478-4815-a23f-cbeadc2ece1a",
   "metadata": {},
   "outputs": [
    {
     "data": {
      "text/plain": [
       "array([0, 0, 0, 0, 0, 0, 0, 0, 0, 0, 0, 0, 0, 0, 0, 0, 0, 0, 0, 0, 0, 0,\n",
       "       0, 0, 0, 0, 0, 0, 0, 0, 0, 0, 0, 0, 0, 0, 0, 0, 0, 0, 0, 0, 0, 0,\n",
       "       0, 0, 0, 0, 0, 0, 1, 1, 1, 1, 1, 1, 1, 1, 1, 1, 1, 1, 1, 1, 1, 1,\n",
       "       1, 1, 1, 1, 1, 1, 1, 1, 1, 1, 1, 1, 1, 1, 1, 1, 1, 1, 1, 1, 1, 1,\n",
       "       1, 1, 1, 1, 1, 1, 1, 1, 1, 1, 1, 1, 2, 2, 2, 2, 2, 2, 2, 2, 2, 2,\n",
       "       2, 2, 2, 2, 2, 2, 2, 2, 2, 2, 2, 2, 2, 2, 2, 2, 2, 2, 2, 2, 2, 2,\n",
       "       2, 2, 2, 2, 2, 2, 2, 2, 2, 2, 2, 2, 2, 2, 2, 2, 2, 2])"
      ]
     },
     "execution_count": 5,
     "metadata": {},
     "output_type": "execute_result"
    }
   ],
   "source": [
    "iris[\"target\"]"
   ]
  },
  {
   "cell_type": "code",
   "execution_count": 6,
   "id": "70627543-7c47-43d4-bb73-891a496e2d51",
   "metadata": {},
   "outputs": [
    {
     "data": {
      "text/html": [
       "<div>\n",
       "<style scoped>\n",
       "    .dataframe tbody tr th:only-of-type {\n",
       "        vertical-align: middle;\n",
       "    }\n",
       "\n",
       "    .dataframe tbody tr th {\n",
       "        vertical-align: top;\n",
       "    }\n",
       "\n",
       "    .dataframe thead th {\n",
       "        text-align: right;\n",
       "    }\n",
       "</style>\n",
       "<table border=\"1\" class=\"dataframe\">\n",
       "  <thead>\n",
       "    <tr style=\"text-align: right;\">\n",
       "      <th></th>\n",
       "      <th>sepal length (cm)</th>\n",
       "      <th>sepal width (cm)</th>\n",
       "      <th>petal length (cm)</th>\n",
       "      <th>petal width (cm)</th>\n",
       "      <th>target</th>\n",
       "    </tr>\n",
       "  </thead>\n",
       "  <tbody>\n",
       "    <tr>\n",
       "      <th>0</th>\n",
       "      <td>5.1</td>\n",
       "      <td>3.5</td>\n",
       "      <td>1.4</td>\n",
       "      <td>0.2</td>\n",
       "      <td>0</td>\n",
       "    </tr>\n",
       "    <tr>\n",
       "      <th>1</th>\n",
       "      <td>4.9</td>\n",
       "      <td>3.0</td>\n",
       "      <td>1.4</td>\n",
       "      <td>0.2</td>\n",
       "      <td>0</td>\n",
       "    </tr>\n",
       "    <tr>\n",
       "      <th>2</th>\n",
       "      <td>4.7</td>\n",
       "      <td>3.2</td>\n",
       "      <td>1.3</td>\n",
       "      <td>0.2</td>\n",
       "      <td>0</td>\n",
       "    </tr>\n",
       "    <tr>\n",
       "      <th>3</th>\n",
       "      <td>4.6</td>\n",
       "      <td>3.1</td>\n",
       "      <td>1.5</td>\n",
       "      <td>0.2</td>\n",
       "      <td>0</td>\n",
       "    </tr>\n",
       "    <tr>\n",
       "      <th>4</th>\n",
       "      <td>5.0</td>\n",
       "      <td>3.6</td>\n",
       "      <td>1.4</td>\n",
       "      <td>0.2</td>\n",
       "      <td>0</td>\n",
       "    </tr>\n",
       "  </tbody>\n",
       "</table>\n",
       "</div>"
      ],
      "text/plain": [
       "   sepal length (cm)  sepal width (cm)  petal length (cm)  petal width (cm)  \\\n",
       "0                5.1               3.5                1.4               0.2   \n",
       "1                4.9               3.0                1.4               0.2   \n",
       "2                4.7               3.2                1.3               0.2   \n",
       "3                4.6               3.1                1.5               0.2   \n",
       "4                5.0               3.6                1.4               0.2   \n",
       "\n",
       "   target  \n",
       "0       0  \n",
       "1       0  \n",
       "2       0  \n",
       "3       0  \n",
       "4       0  "
      ]
     },
     "execution_count": 6,
     "metadata": {},
     "output_type": "execute_result"
    }
   ],
   "source": [
    "df=pd.DataFrame(iris[\"data\"],columns=iris[\"feature_names\"])\n",
    "df[\"target\"]=iris[\"target\"]\n",
    "df.head()"
   ]
  },
  {
   "cell_type": "markdown",
   "id": "581c51ae-d3fe-486e-a5c7-b32726065a51",
   "metadata": {},
   "source": [
    "2. Realiza una partición de datos para Train y Test con su respectiva etiqueta. (Recuerda que tu partición debe ser reproducible, es decir si ejecutas \"n\" veces esta instrucción debe arrojar las mismas particiones)."
   ]
  },
  {
   "cell_type": "code",
   "execution_count": 7,
   "id": "9b65a0d2-a315-4077-8017-e339a8ea4821",
   "metadata": {},
   "outputs": [],
   "source": [
    "X = iris.data\n",
    "y = iris.target\n",
    "X_train, X_test, y_train, y_test = train_test_split(X,y, test_size=0.3, random_state=0)"
   ]
  },
  {
   "cell_type": "code",
   "execution_count": 8,
   "id": "c17cf633-4214-4171-a400-72caddedd865",
   "metadata": {},
   "outputs": [
    {
     "name": "stdout",
     "output_type": "stream",
     "text": [
      "105 train + 45 test\n"
     ]
    }
   ],
   "source": [
    "print(len(X_train),\"train +\", len(X_test), \"test\")"
   ]
  },
  {
   "cell_type": "markdown",
   "id": "64e8b424-c68c-4e0a-8aa8-6457e7ca6800",
   "metadata": {},
   "source": [
    "3. Crea un pipeline que realice la transformación de los datos (como standard scale)"
   ]
  },
  {
   "cell_type": "code",
   "execution_count": 9,
   "id": "3a200a0f-3850-4568-be03-bc662047ef47",
   "metadata": {},
   "outputs": [],
   "source": [
    "feature_tr = Pipeline([(\"std_scaler\", StandardScaler()),])\n",
    "X_train_tr = feature_tr.fit_transform(X_train) \n",
    "X_test_tr = feature_tr.fit_transform(X_test)"
   ]
  },
  {
   "cell_type": "markdown",
   "id": "7c5809db-711c-4b65-af61-038257ef06e7",
   "metadata": {},
   "source": [
    "4. Guarda la transformación de los datos (pipeline) en un archivo .sav\n"
   ]
  },
  {
   "cell_type": "code",
   "execution_count": 10,
   "id": "8324efd5-02a4-42d6-ba4e-8c38eb73ec35",
   "metadata": {},
   "outputs": [
    {
     "data": {
      "text/plain": [
       "['pipeline_perceptron.sav']"
      ]
     },
     "execution_count": 10,
     "metadata": {},
     "output_type": "execute_result"
    }
   ],
   "source": [
    "dump(feature_tr,'pipeline_perceptron.sav')"
   ]
  },
  {
   "cell_type": "markdown",
   "id": "f8283183",
   "metadata": {},
   "source": [
    "5. Realizar tus predicciones con los datos de Test. Si tus modelos fueron entrenados con datos transformados (eje. standard scale), será necesario que tu conjunto de datos de test sea transformado"
   ]
  },
  {
   "cell_type": "markdown",
   "id": "9a5f02b1",
   "metadata": {},
   "source": [
    "Entrenar el modelo"
   ]
  },
  {
   "cell_type": "code",
   "execution_count": 11,
   "id": "24246c86-bfd9-48d8-8608-b15745c0554b",
   "metadata": {},
   "outputs": [
    {
     "data": {
      "text/plain": [
       "Perceptron()"
      ]
     },
     "execution_count": 11,
     "metadata": {},
     "output_type": "execute_result"
    }
   ],
   "source": [
    "perceptron_model=Perceptron()\n",
    "perceptron_model.fit(X_train_tr, y_train)"
   ]
  },
  {
   "cell_type": "markdown",
   "id": "7ee57883",
   "metadata": {},
   "source": [
    "Hacer la prediccion"
   ]
  },
  {
   "cell_type": "code",
   "execution_count": 12,
   "id": "a84bce61",
   "metadata": {},
   "outputs": [],
   "source": [
    "y_pred = perceptron_model.predict(X_test_tr)"
   ]
  },
  {
   "cell_type": "markdown",
   "id": "6bf252b0",
   "metadata": {},
   "source": [
    "Accuracy del modelo"
   ]
  },
  {
   "cell_type": "code",
   "execution_count": 13,
   "id": "e342ba01",
   "metadata": {},
   "outputs": [
    {
     "name": "stdout",
     "output_type": "stream",
     "text": [
      "El accuracy del modelo preceptron es : 0.93\n"
     ]
    }
   ],
   "source": [
    "accuracy_perceptron = accuracy_score(y_test, y_pred)\n",
    "print(f\"El accuracy del modelo preceptron es :{accuracy_perceptron: .2f}\")"
   ]
  },
  {
   "cell_type": "markdown",
   "id": "3e3271dd",
   "metadata": {},
   "source": [
    "Precision del modelo"
   ]
  },
  {
   "cell_type": "code",
   "execution_count": 14,
   "id": "d116df5b",
   "metadata": {},
   "outputs": [
    {
     "name": "stdout",
     "output_type": "stream",
     "text": [
      "La precision del modelo perceptron es: 0.95\n"
     ]
    }
   ],
   "source": [
    "prec_perceptron = precision_score(y_test, y_pred, average='weighted')\n",
    "print(f\"La precision del modelo perceptron es: {prec_perceptron:.2f}\")"
   ]
  },
  {
   "cell_type": "markdown",
   "id": "c29763c7",
   "metadata": {},
   "source": [
    "Recall"
   ]
  },
  {
   "cell_type": "code",
   "execution_count": 15,
   "id": "4ed794bf",
   "metadata": {},
   "outputs": [
    {
     "name": "stdout",
     "output_type": "stream",
     "text": [
      "Recall del modelo perceptron: 0.93\n"
     ]
    }
   ],
   "source": [
    "recall_perceptron = recall_score(y_test, y_pred, average='weighted')\n",
    "print(f\"Recall del modelo perceptron: {recall_perceptron:.2f}\")"
   ]
  },
  {
   "cell_type": "markdown",
   "id": "f9f822f4",
   "metadata": {},
   "source": [
    "F1 score"
   ]
  },
  {
   "cell_type": "code",
   "execution_count": 16,
   "id": "8f3ec5c4",
   "metadata": {},
   "outputs": [
    {
     "name": "stdout",
     "output_type": "stream",
     "text": [
      "F1-score modelo perceptron: 0.93\n"
     ]
    }
   ],
   "source": [
    "f1_perc = f1_score(y_test, y_pred, average='weighted')\n",
    "print(f\"F1-score modelo perceptron: {f1_perc:.2f}\")"
   ]
  },
  {
   "cell_type": "markdown",
   "id": "8f319d58",
   "metadata": {},
   "source": [
    "Matriz de confusion"
   ]
  },
  {
   "cell_type": "code",
   "execution_count": 17,
   "id": "4f840218",
   "metadata": {},
   "outputs": [
    {
     "name": "stdout",
     "output_type": "stream",
     "text": [
      "[[16  0  0]\n",
      " [ 0 15  3]\n",
      " [ 0  0 11]]\n"
     ]
    }
   ],
   "source": [
    "matriz_perc = confusion_matrix(y_test, y_pred)\n",
    "print(matriz_perc)"
   ]
  },
  {
   "cell_type": "markdown",
   "id": "18595b44",
   "metadata": {},
   "source": [
    "Reporte de clasificacion"
   ]
  },
  {
   "cell_type": "code",
   "execution_count": 18,
   "id": "76f9b2a9",
   "metadata": {},
   "outputs": [
    {
     "name": "stdout",
     "output_type": "stream",
     "text": [
      "              precision    recall  f1-score   support\n",
      "\n",
      "           0       1.00      1.00      1.00        16\n",
      "           1       1.00      0.83      0.91        18\n",
      "           2       0.79      1.00      0.88        11\n",
      "\n",
      "    accuracy                           0.93        45\n",
      "   macro avg       0.93      0.94      0.93        45\n",
      "weighted avg       0.95      0.93      0.93        45\n",
      "\n"
     ]
    }
   ],
   "source": [
    "reporte_perc = classification_report(y_test, y_pred)\n",
    "print(reporte_perc)"
   ]
  },
  {
   "cell_type": "markdown",
   "id": "381fd14d",
   "metadata": {},
   "source": [
    "7. Almacena tus modelos entrenados en un archivo .sav."
   ]
  },
  {
   "cell_type": "code",
   "execution_count": 19,
   "id": "ca887b78",
   "metadata": {},
   "outputs": [
    {
     "data": {
      "text/plain": [
       "['model_perceptron.sav']"
      ]
     },
     "execution_count": 19,
     "metadata": {},
     "output_type": "execute_result"
    }
   ],
   "source": [
    "dump(perceptron_model, 'model_perceptron.sav')"
   ]
  },
  {
   "cell_type": "code",
   "execution_count": null,
   "id": "5d1fde26",
   "metadata": {},
   "outputs": [],
   "source": []
  }
 ],
 "metadata": {
  "kernelspec": {
   "display_name": "Python 3 (ipykernel)",
   "language": "python",
   "name": "python3"
  },
  "language_info": {
   "codemirror_mode": {
    "name": "ipython",
    "version": 3
   },
   "file_extension": ".py",
   "mimetype": "text/x-python",
   "name": "python",
   "nbconvert_exporter": "python",
   "pygments_lexer": "ipython3",
   "version": "3.7.16"
  }
 },
 "nbformat": 4,
 "nbformat_minor": 5
}
